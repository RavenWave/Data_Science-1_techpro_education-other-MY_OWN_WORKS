{
 "cells": [
  {
   "cell_type": "markdown",
   "metadata": {},
   "source": [
    "# **SET'LER İLE İLGİLİ EN SEVDİĞİM ÖZELLİKLER**"
   ]
  },
  {
   "cell_type": "markdown",
   "metadata": {},
   "source": [
    "## NOTLAR:\n",
    "\n",
    "    1. Elemanları unique'dir. Aynı elemandan iki adet olamaz.\n",
    "    2. tuple barındırabilir\n",
    "    3. list, dict ve set barındıramaz"
   ]
  },
  {
   "cell_type": "markdown",
   "metadata": {},
   "source": [
    "## **1) Set Oluşturma**"
   ]
  },
  {
   "cell_type": "code",
   "execution_count": 1,
   "metadata": {},
   "outputs": [
    {
     "data": {
      "text/plain": [
       "{(1, 2, 3), 21, 3.12, True, 'blues', 'green', 'yellow'}"
      ]
     },
     "execution_count": 1,
     "metadata": {},
     "output_type": "execute_result"
    }
   ],
   "source": [
    "# 1. Yöntem\n",
    "\n",
    "set('hello')\n",
    "\n",
    "# 2. Yöntem\n",
    "\n",
    "{'blues', 'green', 'yellow', 21, True, 3.12, (1, 2, 3)}"
   ]
  },
  {
   "cell_type": "markdown",
   "metadata": {},
   "source": [
    "## **2) Boş Set Oluşturma**"
   ]
  },
  {
   "cell_type": "code",
   "execution_count": null,
   "metadata": {},
   "outputs": [],
   "source": [
    "empty_set = set()\n",
    "\n",
    "# YALNIZCA AMA YALNIZCA YUKARIDAKİ GİBİ BOŞ KÜME OLUŞTURULUR\n",
    "\n",
    "# emty_set = {} tarzında bir yapı, boş dictionary oluşturur"
   ]
  },
  {
   "cell_type": "markdown",
   "metadata": {},
   "source": [
    "## **3) Neden Set Kullanırız?**"
   ]
  },
  {
   "cell_type": "code",
   "execution_count": 2,
   "metadata": {},
   "outputs": [
    {
     "data": {
      "text/plain": [
       "{'emre', 'erkin', 'irem', 'ozan', 'süheyla'}"
      ]
     },
     "execution_count": 2,
     "metadata": {},
     "output_type": "execute_result"
    }
   ],
   "source": [
    "liste_1 = ['emre', 'irem', 'süheyla']\n",
    "liste_2 = ['emre', 'erkin', 'ozan']\n",
    "\n",
    "liste_1 + liste_2       # bunun çıktısında 2 adet 'emre' elemanı görürüz\n",
    "\n",
    "set(liste_1 + liste_2)  # bunun çıktısında yalnızca 1 adet 'emre' elemanı görürüz  "
   ]
  },
  {
   "cell_type": "markdown",
   "metadata": {},
   "source": [
    "## **4) list'e Dönüştürülebilir**"
   ]
  },
  {
   "cell_type": "code",
   "execution_count": 3,
   "metadata": {},
   "outputs": [
    {
     "data": {
      "text/plain": [
       "['emre', 'ozan', 'erkin']"
      ]
     },
     "execution_count": 3,
     "metadata": {},
     "output_type": "execute_result"
    }
   ],
   "source": [
    "my_set = {'emre', 'erkin', 'ozan'}\n",
    "\n",
    "my_list = list(my_set)\n",
    "my_list"
   ]
  },
  {
   "cell_type": "markdown",
   "metadata": {},
   "source": [
    "## **5) for ile Çalıştırılabilir**"
   ]
  },
  {
   "cell_type": "code",
   "execution_count": 4,
   "metadata": {},
   "outputs": [
    {
     "name": "stdout",
     "output_type": "stream",
     "text": [
      "emre\n",
      "ozan\n",
      "erkin\n"
     ]
    }
   ],
   "source": [
    "my_set = {'emre', 'erkin', 'ozan'}\n",
    "for i in my_set:\n",
    "    print(i)"
   ]
  },
  {
   "cell_type": "markdown",
   "metadata": {},
   "source": [
    "## **6) Methodlar**"
   ]
  },
  {
   "cell_type": "markdown",
   "metadata": {},
   "source": [
    "### ***6.1) union (birleşim): iki set'in elemanlarını birleştirir***\n",
    "\n",
    "    a.union(b)\n",
    "    b.union(a)"
   ]
  },
  {
   "cell_type": "code",
   "execution_count": 5,
   "metadata": {},
   "outputs": [
    {
     "data": {
      "text/plain": [
       "{'e', 'i', 'm', 'r'}"
      ]
     },
     "execution_count": 5,
     "metadata": {},
     "output_type": "execute_result"
    }
   ],
   "source": [
    "a = set('emre')\n",
    "b = set('irem')\n",
    "\n",
    "a | b       # a ve b'nin tüm elemanlarının birleşiminden oluşan yeni bir küme"
   ]
  },
  {
   "cell_type": "markdown",
   "metadata": {},
   "source": [
    "### ***6.2) intersection(kesişim): iki set'in ortak elemanlarından yeni bir set oluşturur***\n",
    "\n",
    "    a.intersection(b)\n",
    "    b.intersection(a)"
   ]
  },
  {
   "cell_type": "code",
   "execution_count": 6,
   "metadata": {},
   "outputs": [
    {
     "data": {
      "text/plain": [
       "{'e', 'm', 'r'}"
      ]
     },
     "execution_count": 6,
     "metadata": {},
     "output_type": "execute_result"
    }
   ],
   "source": [
    "a & b       # hem a hem de b'de olan elemanlardan oluşan yeni bir küme"
   ]
  },
  {
   "cell_type": "markdown",
   "metadata": {},
   "source": [
    "### ***6.3) difference(fark): iki set'in birbirinde olmayan elemanlarından yeni bir set oluşturur***\n",
    "\n",
    "    a.difference(b)\n",
    "    b.difference(a)"
   ]
  },
  {
   "cell_type": "code",
   "execution_count": 7,
   "metadata": {},
   "outputs": [
    {
     "data": {
      "text/plain": [
       "set()"
      ]
     },
     "execution_count": 7,
     "metadata": {},
     "output_type": "execute_result"
    }
   ],
   "source": [
    "a - b       # a'da olup, b'de olmayan elemanlardan oluşan küme"
   ]
  },
  {
   "cell_type": "code",
   "execution_count": 8,
   "metadata": {},
   "outputs": [
    {
     "data": {
      "text/plain": [
       "{'i'}"
      ]
     },
     "execution_count": 8,
     "metadata": {},
     "output_type": "execute_result"
    }
   ],
   "source": [
    "b - a       # b'de olup, a'da olmayan elemanlardan oluşan küme"
   ]
  },
  {
   "cell_type": "markdown",
   "metadata": {},
   "source": [
    "### ***6.4) symetric_difference: a'da olup b'de olmayan elemanlar ile; b'de olup a'da olmayan elemanların birleşiminden oluşan yeni bir set***\n",
    "\n",
    "    a.symetric_difference(b)\n",
    "    b.symetric_difference(a)"
   ]
  },
  {
   "cell_type": "code",
   "execution_count": 9,
   "metadata": {},
   "outputs": [
    {
     "data": {
      "text/plain": [
       "{'i'}"
      ]
     },
     "execution_count": 9,
     "metadata": {},
     "output_type": "execute_result"
    }
   ],
   "source": [
    "a ^ b"
   ]
  },
  {
   "cell_type": "markdown",
   "metadata": {},
   "source": [
    "### ***6.5) issubset(): alt küme mi? sorgulaması yapar***"
   ]
  },
  {
   "cell_type": "code",
   "execution_count": 16,
   "metadata": {},
   "outputs": [],
   "source": [
    "set_1 = {'i', 'r', 'e', 'm'}\n",
    "set_2 = {'r', 'e'}"
   ]
  },
  {
   "cell_type": "code",
   "execution_count": 17,
   "metadata": {},
   "outputs": [
    {
     "data": {
      "text/plain": [
       "False"
      ]
     },
     "execution_count": 17,
     "metadata": {},
     "output_type": "execute_result"
    }
   ],
   "source": [
    "set_1.issubset(set_2)       # set_1, set_2'nin bir alt kümesi midir? Hayır"
   ]
  },
  {
   "cell_type": "code",
   "execution_count": 18,
   "metadata": {},
   "outputs": [
    {
     "data": {
      "text/plain": [
       "True"
      ]
     },
     "execution_count": 18,
     "metadata": {},
     "output_type": "execute_result"
    }
   ],
   "source": [
    "set_2.issubset(set_1)       # set_2, set_1'in bir alt kümesi midir? Evet"
   ]
  },
  {
   "cell_type": "markdown",
   "metadata": {},
   "source": [
    "### ***6.6) remove(): belirltilen elemanı set içerisinden siler***"
   ]
  },
  {
   "cell_type": "code",
   "execution_count": 10,
   "metadata": {},
   "outputs": [
    {
     "data": {
      "text/plain": [
       "{'e', 'm'}"
      ]
     },
     "execution_count": 10,
     "metadata": {},
     "output_type": "execute_result"
    }
   ],
   "source": [
    "a.remove('r')\n",
    "a"
   ]
  },
  {
   "cell_type": "markdown",
   "metadata": {},
   "source": [
    "### ***6.7) pop(): rastgele eleman siler***"
   ]
  },
  {
   "cell_type": "code",
   "execution_count": 11,
   "metadata": {},
   "outputs": [
    {
     "data": {
      "text/plain": [
       "'r'"
      ]
     },
     "execution_count": 11,
     "metadata": {},
     "output_type": "execute_result"
    }
   ],
   "source": [
    "b.pop()     # sildiği elemanı döndürür"
   ]
  },
  {
   "cell_type": "markdown",
   "metadata": {},
   "source": [
    "### ***6.8) add(): belirttiğimiz tek bir tane elemanı ekler***"
   ]
  },
  {
   "cell_type": "code",
   "execution_count": 12,
   "metadata": {},
   "outputs": [],
   "source": [
    "b.add('r')"
   ]
  },
  {
   "cell_type": "code",
   "execution_count": 13,
   "metadata": {},
   "outputs": [
    {
     "data": {
      "text/plain": [
       "{'e', 'i', 'm', 'r'}"
      ]
     },
     "execution_count": 13,
     "metadata": {},
     "output_type": "execute_result"
    }
   ],
   "source": [
    "b       # r'yi remove ile silmiştik. add ile tekrar ekledik."
   ]
  },
  {
   "cell_type": "markdown",
   "metadata": {},
   "source": [
    "### ***6.*) update(): iterable olan bir elemanın tüm karakterlerini teker teker ekler***"
   ]
  },
  {
   "cell_type": "code",
   "execution_count": 14,
   "metadata": {},
   "outputs": [
    {
     "data": {
      "text/plain": [
       "{'a', 'e', 'h', 'i', 'l', 'm', 'r', 's', 'y', 'ü'}"
      ]
     },
     "execution_count": 14,
     "metadata": {},
     "output_type": "execute_result"
    }
   ],
   "source": [
    "b.update('süheyla')\n",
    "b"
   ]
  }
 ],
 "metadata": {
  "kernelspec": {
   "display_name": "Python 3",
   "language": "python",
   "name": "python3"
  },
  "language_info": {
   "codemirror_mode": {
    "name": "ipython",
    "version": 3
   },
   "file_extension": ".py",
   "mimetype": "text/x-python",
   "name": "python",
   "nbconvert_exporter": "python",
   "pygments_lexer": "ipython3",
   "version": "3.9.13"
  }
 },
 "nbformat": 4,
 "nbformat_minor": 2
}
