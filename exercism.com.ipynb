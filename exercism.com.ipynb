{
 "cells": [
  {
   "cell_type": "code",
   "execution_count": 2,
   "metadata": {},
   "outputs": [
    {
     "data": {
      "text/plain": [
       "'Hello, World!'"
      ]
     },
     "execution_count": 2,
     "metadata": {},
     "output_type": "execute_result"
    }
   ],
   "source": [
    "# Exercise 1 - 'Hello, World!'\n",
    "def hello():\n",
    "    return 'Hello, World!'\n",
    "hello()"
   ]
  },
  {
   "cell_type": "markdown",
   "metadata": {},
   "source": [
    "# ❌**FOOTNOTE: DOCSTRINGS**\n",
    "\n",
    ">> Docstrings are strings written inside functions bodies. And it's not impact to the implement. It's just a note for the user. And we want to see this, we must use \".__doc__\" function like following next cell.\n"
   ]
  },
  {
   "cell_type": "code",
   "execution_count": 9,
   "metadata": {},
   "outputs": [
    {
     "name": "stdout",
     "output_type": "stream",
     "text": [
      "9\n",
      " Conventions of multi function.\n",
      "\n",
      "    num1 must be integer.\n",
      "    num2 must be integer.     \n",
      "    \n"
     ]
    }
   ],
   "source": [
    "def multi(num1, num2):\n",
    "    \"\"\" Conventions of multi function.\n",
    "\n",
    "    num1 must be integer.\n",
    "    num2 must be integer.     \n",
    "    \"\"\"\n",
    "    num = num1 * num2\n",
    "    return num\n",
    "\n",
    "print(multi(3,3))\n",
    "print(multi.__doc__) # This __doc__ reads the note inside function budy.\n",
    "\n"
   ]
  },
  {
   "cell_type": "code",
   "execution_count": null,
   "metadata": {},
   "outputs": [],
   "source": []
  }
 ],
 "metadata": {
  "kernelspec": {
   "display_name": "Python 3",
   "language": "python",
   "name": "python3"
  },
  "language_info": {
   "codemirror_mode": {
    "name": "ipython",
    "version": 3
   },
   "file_extension": ".py",
   "mimetype": "text/x-python",
   "name": "python",
   "nbconvert_exporter": "python",
   "pygments_lexer": "ipython3",
   "version": "3.9.13"
  }
 },
 "nbformat": 4,
 "nbformat_minor": 2
}
