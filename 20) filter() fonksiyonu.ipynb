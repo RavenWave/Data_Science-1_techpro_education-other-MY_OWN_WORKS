{
 "cells": [
  {
   "cell_type": "markdown",
   "metadata": {},
   "source": [
    "# filter() FONKSİYONU İLE İLGİLİ ÖZET BİLGİLER"
   ]
  },
  {
   "cell_type": "markdown",
   "metadata": {},
   "source": [
    "> bir grup veri içerisinden sadece bizim istediğimiz şartlar uygun olanlarını yazdırırız"
   ]
  },
  {
   "cell_type": "code",
   "execution_count": 3,
   "metadata": {},
   "outputs": [
    {
     "data": {
      "text/plain": [
       "(1, 12, True, 'emmre')"
      ]
     },
     "execution_count": 3,
     "metadata": {},
     "output_type": "execute_result"
    }
   ],
   "source": [
    "# defoult kullanımı, yani hiçbir şey yapmazsak:\n",
    "\n",
    "liste = [0, 1, 12, False, True, '', 'emmre']\n",
    "\n",
    "tuple(filter(None, liste))      # None yaparsak, True olan ifadeleri yazdırır, False olanları yazdırmaz."
   ]
  },
  {
   "cell_type": "code",
   "execution_count": 12,
   "metadata": {},
   "outputs": [],
   "source": [
    "def select_odds(sayı):\n",
    "    if sayı % 2:\n",
    "        return True\n",
    "    else:\n",
    "        return False"
   ]
  },
  {
   "cell_type": "code",
   "execution_count": 15,
   "metadata": {},
   "outputs": [
    {
     "data": {
      "text/plain": [
       "True"
      ]
     },
     "execution_count": 15,
     "metadata": {},
     "output_type": "execute_result"
    }
   ],
   "source": [
    "select_odds(3)"
   ]
  },
  {
   "cell_type": "code",
   "execution_count": 17,
   "metadata": {},
   "outputs": [
    {
     "data": {
      "text/plain": [
       "[1, 3, 5, 7, 9]"
      ]
     },
     "execution_count": 17,
     "metadata": {},
     "output_type": "execute_result"
    }
   ],
   "source": [
    "list(filter(select_odds, [1, 2, 3, 4, 5, 6, 7, 8, 9, 10]))       # bir liste içerisinde tek sayıları yazdıran bir filtre"
   ]
  }
 ],
 "metadata": {
  "kernelspec": {
   "display_name": "Python 3",
   "language": "python",
   "name": "python3"
  },
  "language_info": {
   "codemirror_mode": {
    "name": "ipython",
    "version": 3
   },
   "file_extension": ".py",
   "mimetype": "text/x-python",
   "name": "python",
   "nbconvert_exporter": "python",
   "pygments_lexer": "ipython3",
   "version": "3.9.13"
  }
 },
 "nbformat": 4,
 "nbformat_minor": 2
}
