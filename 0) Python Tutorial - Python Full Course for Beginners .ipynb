{
 "cells": [
  {
   "cell_type": "markdown",
   "metadata": {},
   "source": [
    "# **🔻 For Loops 🔻** [1:41:55]"
   ]
  },
  {
   "cell_type": "markdown",
   "metadata": {},
   "source": [
    ">> We use that to iterate over items of a collection, such as a string. Because a string a sequence of characters, so it look like a collection. So we use a for loop to iterate over each character in a string and do something with it."
   ]
  },
  {
   "cell_type": "code",
   "execution_count": 1,
   "metadata": {},
   "outputs": [
    {
     "name": "stdout",
     "output_type": "stream",
     "text": [
      "P\n",
      "y\n",
      "t\n",
      "h\n",
      "o\n",
      "n\n"
     ]
    }
   ],
   "source": [
    "for item in \"Python\": # In the first iteration it will be set to \"P\", and in the second iteration it will be set to \"y\" and so on.\n",
    "    print(item)"
   ]
  },
  {
   "cell_type": "code",
   "execution_count": 2,
   "metadata": {},
   "outputs": [
    {
     "name": "stdout",
     "output_type": "stream",
     "text": [
      "Mosh\n",
      "John\n",
      "Sarah\n"
     ]
    }
   ],
   "source": [
    "for item in ['Mosh', 'John', 'Sarah']: \n",
    "    print(item)"
   ]
  },
  {
   "cell_type": "code",
   "execution_count": 3,
   "metadata": {},
   "outputs": [
    {
     "name": "stdout",
     "output_type": "stream",
     "text": [
      "1\n",
      "2\n",
      "3\n",
      "4\n"
     ]
    }
   ],
   "source": [
    "for item in [1, 2, 3, 4]: \n",
    "    print(item)"
   ]
  },
  {
   "cell_type": "code",
   "execution_count": 5,
   "metadata": {},
   "outputs": [
    {
     "name": "stdout",
     "output_type": "stream",
     "text": [
      "0\n",
      "1\n",
      "2\n",
      "3\n",
      "4\n",
      "5\n",
      "6\n",
      "7\n",
      "8\n",
      "9\n"
     ]
    }
   ],
   "source": [
    "for item in range(10): # from zero to nine. Ten is not include.\n",
    "    print(item)"
   ]
  },
  {
   "cell_type": "code",
   "execution_count": 7,
   "metadata": {},
   "outputs": [
    {
     "name": "stdout",
     "output_type": "stream",
     "text": [
      "5\n",
      "6\n",
      "7\n",
      "8\n",
      "9\n"
     ]
    }
   ],
   "source": [
    "for item in range(5, 10): # from five, and go all the way to ten. 5 is include, 10 is not include.\n",
    "    print(item)"
   ]
  },
  {
   "cell_type": "code",
   "execution_count": 8,
   "metadata": {},
   "outputs": [
    {
     "name": "stdout",
     "output_type": "stream",
     "text": [
      "5\n",
      "7\n",
      "9\n"
     ]
    }
   ],
   "source": [
    "# Also, this range function can optionally take a step. \n",
    "\n",
    "for item in range(5, 10, 2): # There is 2 as the step to the function.\n",
    "    print(item)"
   ]
  },
  {
   "cell_type": "code",
   "execution_count": 11,
   "metadata": {},
   "outputs": [
    {
     "name": "stdout",
     "output_type": "stream",
     "text": [
      "Total cost of shopping chart is 60 dollars!\n",
      "Total cost of shopping chart is 60 dollars!\n"
     ]
    }
   ],
   "source": [
    "# I want you to write a program to calculate the total cost of all the items in a shopping cart. [shopping cart - alışveriş sepeti]\n",
    "# Let's say we have a list of prices like 10, 20 and 30.\n",
    "\n",
    "cost = 0\n",
    "list_cost = [10, 20, 30]\n",
    "for cost in list_cost: \n",
    "    cost += cost\n",
    "print(f'Total cost of shopping chart is {cost} dollars!' )\n",
    "\n",
    "# or \n",
    "\n",
    "total = 0\n",
    "prices = [10, 20, 30]\n",
    "for price in prices: \n",
    "    total += price\n",
    "print(f'Total cost of shopping chart is {total} dollars!' )"
   ]
  },
  {
   "cell_type": "markdown",
   "metadata": {},
   "source": [
    "# **🔻 Nested Loops 🔻**"
   ]
  },
  {
   "cell_type": "markdown",
   "metadata": {},
   "source": [
    ">> Using a nested loop basically means adding one loop inside of another loop. And with this technique we can do some amazing things for example we can easily generate a list of coordinates. "
   ]
  },
  {
   "cell_type": "code",
   "execution_count": 23,
   "metadata": {},
   "outputs": [
    {
     "name": "stdout",
     "output_type": "stream",
     "text": [
      "[x,y]\n",
      "(0,0)\n",
      "(0,1)\n",
      "(0,2)\n",
      "(1,0)\n",
      "(1,1)\n",
      "(1,2)\n",
      "(2,0)\n",
      "(2,1)\n",
      "(2,2)\n",
      "(3,0)\n",
      "(3,1)\n",
      "(3,2)\n"
     ]
    }
   ],
   "source": [
    "print(\"[x,y]\")\n",
    "for x in range(4): # outer loop\n",
    "    for y in range(3): # inner loop\n",
    "        print(f'({x},{y})')"
   ]
  },
  {
   "cell_type": "code",
   "execution_count": 35,
   "metadata": {},
   "outputs": [
    {
     "name": "stdout",
     "output_type": "stream",
     "text": [
      "[x,y]\n",
      "x = 1 için y = 1 koordinati --->> (1,1)\n",
      "x = 1 için y = 2 koordinati --->> (1,2)\n",
      "x = 1 için y = 3 koordinati --->> (1,3)\n",
      "x = 2 için y = 1 koordinati --->> (2,1)\n",
      "x = 2 için y = 2 koordinati --->> (2,2)\n",
      "x = 2 için y = 3 koordinati --->> (2,3)\n",
      "x = 3 için y = 1 koordinati --->> (3,1)\n",
      "x = 3 için y = 2 koordinati --->> (3,2)\n",
      "x = 3 için y = 3 koordinati --->> (3,3)\n",
      "x = 4 için y = 1 koordinati --->> (4,1)\n",
      "x = 4 için y = 2 koordinati --->> (4,2)\n",
      "x = 4 için y = 3 koordinati --->> (4,3)\n"
     ]
    }
   ],
   "source": [
    "print(\"[x,y]\")\n",
    "for x in range(1, 5):\n",
    "    for y in range(1, 4):\n",
    "        print(f\"x = {x} için y = {y} koordinati --->> ({x},{y})\")"
   ]
  },
  {
   "cell_type": "markdown",
   "metadata": {},
   "source": [
    "## **Challenge:** Write a program, and it will return a shape like this:\n",
    "#### xxxxx\n",
    "#### xx\n",
    "#### xxxxx\n",
    "#### xx\n",
    "#### xx"
   ]
  },
  {
   "cell_type": "code",
   "execution_count": 3,
   "metadata": {},
   "outputs": [
    {
     "name": "stdout",
     "output_type": "stream",
     "text": [
      "xxxxx\n",
      "xx\n",
      "xxxxx\n",
      "xx\n",
      "xx\n"
     ]
    }
   ],
   "source": [
    "# this is my solution: \n",
    "\n",
    "numbers = [5, 2, 5, 2, 2]\n",
    "my_list = [\"xxxxx\", \"xx\"]\n",
    "for x in numbers:\n",
    "    for y in my_list:\n",
    "        if x == len(y):\n",
    "            print(y)\n",
    "        else:\n",
    "            continue"
   ]
  },
  {
   "cell_type": "code",
   "execution_count": 6,
   "metadata": {},
   "outputs": [
    {
     "name": "stdout",
     "output_type": "stream",
     "text": [
      "xxxxx\n",
      "xx\n",
      "xxxxx\n",
      "xx\n",
      "xx\n"
     ]
    }
   ],
   "source": [
    "# this is instructure's solution:\n",
    "\n",
    "numbers = [5, 2, 5, 2, 2]\n",
    "for x_count in numbers:\n",
    "    output = ''\n",
    "    for count in range(x_count):\n",
    "        output += 'x'\n",
    "    print(output)\n"
   ]
  },
  {
   "cell_type": "markdown",
   "metadata": {},
   "source": [
    "# 🔻 **LISTS** 🔻"
   ]
  },
  {
   "cell_type": "markdown",
   "metadata": {},
   "source": [
    "> #### Now in this tutorial we're going to **_take a closer look_** at lists."
   ]
  },
  {
   "cell_type": "code",
   "execution_count": 70,
   "metadata": {},
   "outputs": [
    {
     "name": "stdout",
     "output_type": "stream",
     "text": [
      "['John', 'Bob', 'Mosh', 'Sarah', 'Mary']\n",
      "John\n",
      "Mosh\n",
      "Mary\n",
      "Sarah\n",
      "['Mosh', 'Sarah', 'Mary']\n",
      "['Mosh', 'Sarah']\n"
     ]
    }
   ],
   "source": [
    "names = ['John', 'Bob', 'Mosh', 'Sarah', 'Mary']            \n",
    "print(names)            # We've 5 strings at this list.\n",
    "print(names[0])         # Using indexes, we can access individual items. Zero is the first index in this list. And it returns 'John'.\n",
    "print(names[2])\n",
    "\n",
    "# Or we can pass a negative index:\n",
    "\n",
    "print(names[-1])        # Negative indexes start from \"-1\". Index -1 is the last item in this list.\n",
    "\n",
    "# If you pass negative 2, this returns te second item from the end of the list. --> \"Sarah\"\n",
    "\n",
    "print(names[-2])\n",
    "\n",
    "# We can also use a colon to select a range of items. For example\n",
    "\n",
    "print(names[2:])        # This will get all items starting from the index 2 all the way to the end of the string.\n",
    "\n",
    "# Or, we can also specify \"end index\", let's say 4:\n",
    "\n",
    "print(names[2:4])       # So this will return all the items up to \"end index:4\", but it doesn't include the item at \"end index\". So fourth index is \"Mary\" not include."
   ]
  },
  {
   "cell_type": "code",
   "execution_count": 20,
   "metadata": {},
   "outputs": [
    {
     "name": "stdout",
     "output_type": "stream",
     "text": [
      "['Jon', 'Bob', 'Mosh', 'Sarah', 'Mary']\n"
     ]
    }
   ],
   "source": [
    "# If we want to modify lists:\n",
    "\n",
    "names = ['John', 'Bob', 'Mosh', 'Sarah', 'Mary']            \n",
    "names[0] = 'Jon'\n",
    "print(names)"
   ]
  },
  {
   "cell_type": "markdown",
   "metadata": {},
   "source": [
    "># **Exercise**\n",
    "\n",
    ">> Write a program to find the largest number in a list."
   ]
  },
  {
   "cell_type": "code",
   "execution_count": 60,
   "metadata": {},
   "outputs": [],
   "source": [
    "# This is my solution. But it's not works exactly. If we have two largest number, it can't return anything.\n",
    "\n",
    "sayilar_listesi = [1, 4, 21, 21]\n",
    "liste_uzunluğu = len(sayilar_listesi)   \n",
    "\n",
    "for x in sayilar_listesi:\n",
    "    x_küme = 0\n",
    "    for y in range(liste_uzunluğu):\n",
    "        if x > sayilar_listesi[y]:\n",
    "            x_küme += 1\n",
    "    if x_küme == (liste_uzunluğu-1):\n",
    "        print(x)"
   ]
  },
  {
   "cell_type": "code",
   "execution_count": 62,
   "metadata": {},
   "outputs": [
    {
     "name": "stdout",
     "output_type": "stream",
     "text": [
      "21\n"
     ]
    }
   ],
   "source": [
    "# And this is instructer's solution. It's very very easy.\n",
    "\n",
    "numbers = [1, 4, 21, 21]\n",
    "max = numbers[0]\n",
    "for number in numbers:\n",
    "    if number > max:\n",
    "        max = number\n",
    "print(max)"
   ]
  },
  {
   "cell_type": "markdown",
   "metadata": {},
   "source": [
    "# 🔻 **2D LISTS** 🔻"
   ]
  },
  {
   "cell_type": "markdown",
   "metadata": {},
   "source": [
    "> #### In this tutorial we're going to talk about two dimensional lists in Python. Two dimensional lists are extremly powerfull and **_they have a lot of applications in Data Science and Machine Learning_**.\n",
    "\n",
    "> A 2 dimensional list is a list where each item in that list is another list"
   ]
  },
  {
   "cell_type": "code",
   "execution_count": 2,
   "metadata": {},
   "outputs": [
    {
     "data": {
      "text/plain": [
       "[[1, 2, 3], [4, 5, 6], [7, 8, 9]]"
      ]
     },
     "execution_count": 2,
     "metadata": {},
     "output_type": "execute_result"
    }
   ],
   "source": [
    "matrix = [\n",
    "    [1, 2, 3],\n",
    "    [4, 5, 6],\n",
    "    [7, 8, 9],\n",
    "]\n",
    "\n",
    "matrix"
   ]
  },
  {
   "cell_type": "code",
   "execution_count": 3,
   "metadata": {},
   "outputs": [
    {
     "data": {
      "text/plain": [
       "[1, 2, 3]"
      ]
     },
     "execution_count": 3,
     "metadata": {},
     "output_type": "execute_result"
    }
   ],
   "source": [
    "matrix[0]\n"
   ]
  },
  {
   "cell_type": "code",
   "execution_count": 4,
   "metadata": {},
   "outputs": [
    {
     "data": {
      "text/plain": [
       "2"
      ]
     },
     "execution_count": 4,
     "metadata": {},
     "output_type": "execute_result"
    }
   ],
   "source": [
    "matrix[0][1]"
   ]
  },
  {
   "cell_type": "code",
   "execution_count": 5,
   "metadata": {},
   "outputs": [
    {
     "data": {
      "text/plain": [
       "[[1, 20, 3], [4, 5, 6], [7, 8, 9]]"
      ]
     },
     "execution_count": 5,
     "metadata": {},
     "output_type": "execute_result"
    }
   ],
   "source": [
    "matrix[0][1] = 20\n",
    "matrix"
   ]
  },
  {
   "cell_type": "code",
   "execution_count": 10,
   "metadata": {},
   "outputs": [
    {
     "name": "stdout",
     "output_type": "stream",
     "text": [
      "an item of matrix --> [1, 20, 3]\n",
      "an item of item of matrix --> 1\n",
      "an item of item of matrix --> 20\n",
      "an item of item of matrix --> 3\n",
      "an item of matrix --> [4, 5, 6]\n",
      "an item of item of matrix --> 4\n",
      "an item of item of matrix --> 5\n",
      "an item of item of matrix --> 6\n",
      "an item of matrix --> [7, 8, 9]\n",
      "an item of item of matrix --> 7\n",
      "an item of item of matrix --> 8\n",
      "an item of item of matrix --> 9\n"
     ]
    }
   ],
   "source": [
    "for row in matrix:      # each iteration row will contain one list, 1 item\n",
    "    print(\"an item of matrix -->\",row)\n",
    "    for item in row:\n",
    "        print(\"an item of item of matrix -->\",item)\n"
   ]
  },
  {
   "cell_type": "markdown",
   "metadata": {},
   "source": []
  },
  {
   "cell_type": "markdown",
   "metadata": {},
   "source": [
    "# 🔻 **LIST METHODS** 🔻"
   ]
  },
  {
   "cell_type": "code",
   "execution_count": 38,
   "metadata": {},
   "outputs": [
    {
     "data": {
      "text/plain": [
       "[5, 2, 1, 7, 4, 20]"
      ]
     },
     "execution_count": 38,
     "metadata": {},
     "output_type": "execute_result"
    }
   ],
   "source": [
    "# append(): it add a number end of the list\n",
    "\n",
    "numbers = [5, 2, 1, 7, 4]\n",
    "numbers.append(20)\n",
    "numbers"
   ]
  },
  {
   "cell_type": "code",
   "execution_count": 39,
   "metadata": {},
   "outputs": [
    {
     "data": {
      "text/plain": [
       "[10, 5, 2, 1, 7, 4, 20]"
      ]
     },
     "execution_count": 39,
     "metadata": {},
     "output_type": "execute_result"
    }
   ],
   "source": [
    "# insert(): it add a number in the list whatever you want\n",
    "\n",
    "numbers.insert(0, 10)           # 0 is the placement item for 10\n",
    "numbers"
   ]
  },
  {
   "cell_type": "code",
   "execution_count": 40,
   "metadata": {},
   "outputs": [
    {
     "data": {
      "text/plain": [
       "[2, 1, 7, 4, 20]"
      ]
     },
     "execution_count": 40,
     "metadata": {},
     "output_type": "execute_result"
    }
   ],
   "source": [
    "# remove(): it removes items in list\n",
    "\n",
    "numbers.remove(10)              # 10 is removed\n",
    "numbers.remove(5)               # 5 is removed\n",
    "numbers"
   ]
  },
  {
   "cell_type": "code",
   "execution_count": 42,
   "metadata": {},
   "outputs": [
    {
     "data": {
      "text/plain": [
       "[]"
      ]
     },
     "execution_count": 42,
     "metadata": {},
     "output_type": "execute_result"
    }
   ],
   "source": [
    "# clear(): it clears all the items in list\n",
    "\n",
    "numbers.clear()\n",
    "numbers"
   ]
  },
  {
   "cell_type": "code",
   "execution_count": 49,
   "metadata": {},
   "outputs": [
    {
     "data": {
      "text/plain": [
       "[5, 2, 1, 7]"
      ]
     },
     "execution_count": 49,
     "metadata": {},
     "output_type": "execute_result"
    }
   ],
   "source": [
    "# pop(): if inside empty, it removes end item of the list\n",
    "\n",
    "numbers = [5, 2, 1, 7, 4]\n",
    "numbers.pop()                   # it clears 4\n",
    "numbers\n"
   ]
  },
  {
   "cell_type": "code",
   "execution_count": 53,
   "metadata": {},
   "outputs": [
    {
     "name": "stdout",
     "output_type": "stream",
     "text": [
      "0\n"
     ]
    }
   ],
   "source": [
    "# index(): it returns the index of the first occurrence of this item. if a number is not exist in the list, it will be return error\n",
    "\n",
    "print(numbers.index(5))             # index of 5 is zero"
   ]
  },
  {
   "cell_type": "code",
   "execution_count": 68,
   "metadata": {},
   "outputs": [
    {
     "data": {
      "text/plain": [
       "2"
      ]
     },
     "execution_count": 68,
     "metadata": {},
     "output_type": "execute_result"
    }
   ],
   "source": [
    "# count(): it counts items\n",
    "\n",
    "numbers = [5, 2, 1, 5, 7, 4]\n",
    "numbers.count(5)"
   ]
  },
  {
   "cell_type": "code",
   "execution_count": 60,
   "metadata": {},
   "outputs": [
    {
     "data": {
      "text/plain": [
       "[1, 2, 4, 5, 5, 7]"
      ]
     },
     "execution_count": 60,
     "metadata": {},
     "output_type": "execute_result"
    }
   ],
   "source": [
    "# sort(): this method doen't take any value\n",
    "\n",
    "numbers.sort()              # now all the items are sorted in ascending order.\n",
    "numbers"
   ]
  },
  {
   "cell_type": "code",
   "execution_count": 63,
   "metadata": {},
   "outputs": [
    {
     "data": {
      "text/plain": [
       "[7, 5, 5, 4, 2, 1]"
      ]
     },
     "execution_count": 63,
     "metadata": {},
     "output_type": "execute_result"
    }
   ],
   "source": [
    "# reverse(): this method doen't take any value\n",
    "\n",
    "numbers.reverse()              # now all the items are sorted in descending order.\n",
    "numbers"
   ]
  },
  {
   "cell_type": "code",
   "execution_count": 69,
   "metadata": {},
   "outputs": [
    {
     "name": "stdout",
     "output_type": "stream",
     "text": [
      "[5, 2, 1, 5, 7, 4]\n",
      "after changing list of numbers, number2 doesn't changes --> [5, 2, 1, 5, 7, 4]\n",
      "list of numbers --> [5, 2, 1, 5, 7, 4, 10]\n"
     ]
    }
   ],
   "source": [
    "# copy(): this method can get a copy of lits\n",
    "\n",
    "numbers2 = numbers.copy()\n",
    "print(numbers2)\n",
    "\n",
    "# note: If we make any changes to our original list, if we add new items to it, if we remove existing items, these operation are not going to impact our second list.\n",
    "\n",
    "numbers.append(10)\n",
    "print(\"after changing list of numbers, number2 doesn't changes -->\",numbers2)\n",
    "print(\"list of numbers -->\", numbers)"
   ]
  },
  {
   "cell_type": "markdown",
   "metadata": {},
   "source": [
    "># **Exercise**\n",
    "\n",
    ">> Write a program to remove the duplicates in a list."
   ]
  },
  {
   "cell_type": "code",
   "execution_count": 122,
   "metadata": {},
   "outputs": [
    {
     "data": {
      "text/plain": [
       "[1, 2, 4, 5, 3, 6]"
      ]
     },
     "execution_count": 122,
     "metadata": {},
     "output_type": "execute_result"
    }
   ],
   "source": [
    "# my solution:\n",
    "\n",
    "numbers = [1, 1, 2, 4, 4, 5, 3, 3, 3, 5, 1, 6, 1, 1, 6]\n",
    "new_numbers = []\n",
    "for number in numbers:\n",
    "    if number not in new_numbers:\n",
    "        new_numbers.append(number)\n",
    "\n",
    "print(new_numbers)\n",
    "\n",
    "# solution of teacher:\n",
    "\n",
    "        # same soluton as mine\n",
    "\n"
   ]
  },
  {
   "cell_type": "code",
   "execution_count": null,
   "metadata": {},
   "outputs": [],
   "source": []
  },
  {
   "cell_type": "markdown",
   "metadata": {},
   "source": [
    "# 🔻 **TUPLES** 🔻"
   ]
  },
  {
   "cell_type": "markdown",
   "metadata": {},
   "source": [
    ">> Tuples are similar to list so we can use them to store a list of items. But unlike lists we can not modify them, we cannot add new items, we cannot remove existing items. \n",
    "\n",
    ">> Tuples are immutable. We cannot mutate or change them. "
   ]
  },
  {
   "cell_type": "code",
   "execution_count": 123,
   "metadata": {},
   "outputs": [
    {
     "data": {
      "text/plain": [
       "1"
      ]
     },
     "execution_count": 123,
     "metadata": {},
     "output_type": "execute_result"
    }
   ],
   "source": [
    "numbers = (1, 2, 3)\n",
    "\n",
    "numbers[0]              # Similar to lists you can access individual items using square brackets. "
   ]
  },
  {
   "cell_type": "code",
   "execution_count": 124,
   "metadata": {},
   "outputs": [
    {
     "ename": "TypeError",
     "evalue": "'tuple' object does not support item assignment",
     "output_type": "error",
     "traceback": [
      "\u001b[1;31m---------------------------------------------------------------------------\u001b[0m",
      "\u001b[1;31mTypeError\u001b[0m                                 Traceback (most recent call last)",
      "Cell \u001b[1;32mIn[124], line 1\u001b[0m\n\u001b[1;32m----> 1\u001b[0m \u001b[43mnumbers\u001b[49m\u001b[43m[\u001b[49m\u001b[38;5;241;43m0\u001b[39;49m\u001b[43m]\u001b[49m \u001b[38;5;241m=\u001b[39m \u001b[38;5;241m10\u001b[39m         \u001b[38;5;66;03m# We will get TypeError: 'tuple' object doesn' support iter\u001b[39;00m\n",
      "\u001b[1;31mTypeError\u001b[0m: 'tuple' object does not support item assignment"
     ]
    }
   ],
   "source": [
    "numbers[0] = 10         # We will get TypeError: 'tuple' object doesn' support item assigment"
   ]
  },
  {
   "cell_type": "markdown",
   "metadata": {},
   "source": [
    "# 🔻 **UNPACKING** 🔻"
   ]
  },
  {
   "cell_type": "markdown",
   "metadata": {},
   "source": [
    ">> In this tutorial I'm going to show you a powerful feature we have in python called unpacking.\n",
    "\n",
    ">> We want to getting easy our works..."
   ]
  },
  {
   "cell_type": "code",
   "execution_count": 131,
   "metadata": {},
   "outputs": [],
   "source": [
    "# Understanding for unpacking:\n",
    "\n",
    "coordinates = (1, 2, 3)\n",
    "\n",
    "# If we doing a lot of calcutation using items of coordinates we should make some assignments:\n",
    "\n",
    "x = coordinates[0]\n",
    "y = coordinates[1]\n",
    "z = coordinates[2]\n",
    "\n",
    "# or ve use \"unpacking\" feature 💥💢💥:\n",
    "\n",
    "x, y, z = coordinates                       # we can use this feature also in Lists"
   ]
  },
  {
   "cell_type": "code",
   "execution_count": 132,
   "metadata": {},
   "outputs": [
    {
     "name": "stdout",
     "output_type": "stream",
     "text": [
      "emre\n",
      "erkin\n",
      "ozan\n"
     ]
    }
   ],
   "source": [
    "variables = ['emre', 'erkin', 'ozan']\n",
    "\n",
    "a, b, c = variables\n",
    "\n",
    "print(a)\n",
    "print(b)\n",
    "print(c)"
   ]
  },
  {
   "cell_type": "code",
   "execution_count": null,
   "metadata": {},
   "outputs": [],
   "source": []
  },
  {
   "cell_type": "markdown",
   "metadata": {},
   "source": [
    "# 🔻 **DICTIONARIES** 🔻"
   ]
  },
  {
   "cell_type": "markdown",
   "metadata": {},
   "source": [
    ">> We use dictoinaries in situation where we want to store information that comes as key-vales pairs like that:\n",
    "\n",
    ">>> Name: John Smith\n",
    "\n",
    ">>> Email: john@gmail.com\n",
    "\n",
    ">>> Phone: 1234\n",
    "\n",
    ">> Each key should be unique in a ditionary."
   ]
  },
  {
   "cell_type": "code",
   "execution_count": 135,
   "metadata": {},
   "outputs": [
    {
     "data": {
      "text/plain": [
       "'John Smith'"
      ]
     },
     "execution_count": 135,
     "metadata": {},
     "output_type": "execute_result"
    }
   ],
   "source": [
    "customer = {\n",
    "    'name': 'John Smith',\n",
    "    'age': 30,                  \n",
    "    'is_verified': True\n",
    "}\n",
    "\n",
    "customer['name']                # we can access the values using their keys"
   ]
  },
  {
   "cell_type": "code",
   "execution_count": 137,
   "metadata": {},
   "outputs": [
    {
     "ename": "KeyError",
     "evalue": "'birthdate'",
     "output_type": "error",
     "traceback": [
      "\u001b[1;31m---------------------------------------------------------------------------\u001b[0m",
      "\u001b[1;31mKeyError\u001b[0m                                  Traceback (most recent call last)",
      "Cell \u001b[1;32mIn[137], line 1\u001b[0m\n\u001b[1;32m----> 1\u001b[0m \u001b[43mcustomer\u001b[49m\u001b[43m[\u001b[49m\u001b[38;5;124;43m'\u001b[39;49m\u001b[38;5;124;43mbirthdate\u001b[39;49m\u001b[38;5;124;43m'\u001b[39;49m\u001b[43m]\u001b[49m           \u001b[38;5;66;03m# if we type things doesn't exist in dictionary, we will get KeyError.\u001b[39;00m\n\u001b[0;32m      3\u001b[0m customer[\u001b[38;5;124m'\u001b[39m\u001b[38;5;124mName\u001b[39m\u001b[38;5;124m'\u001b[39m]                \u001b[38;5;66;03m# dictionaries are casesensitive\u001b[39;00m\n",
      "\u001b[1;31mKeyError\u001b[0m: 'birthdate'"
     ]
    }
   ],
   "source": [
    "customer['birthdate']           # if we type things doesn't exist in dictionary, we will get KeyError.\n",
    "\n",
    "customer['Name']                # dictionaries are casesensitive"
   ]
  },
  {
   "cell_type": "code",
   "execution_count": 150,
   "metadata": {},
   "outputs": [
    {
     "name": "stdout",
     "output_type": "stream",
     "text": [
      "John Smith\n",
      "None\n",
      "2002\n",
      "{'name': 'John Smith', 'age': 30, 'is_verified': True, 'birtday': 1996, 'birthdate': 2002}\n"
     ]
    }
   ],
   "source": [
    "# get(): we can use this, if we don't want to get a KeyError\n",
    "\n",
    "print(customer.get('name'))\n",
    "print(customer.get('namee'))   \n",
    "print(customer.get('birthdate', 1996))           # this adds new items\n",
    "print(customer)"
   ]
  },
  {
   "cell_type": "code",
   "execution_count": 151,
   "metadata": {},
   "outputs": [
    {
     "data": {
      "text/plain": [
       "{'name': 'John Smith',\n",
       " 'age': 30,\n",
       " 'is_verified': True,\n",
       " 'birtday': 1996,\n",
       " 'birthdate': 1996}"
      ]
     },
     "execution_count": 151,
     "metadata": {},
     "output_type": "execute_result"
    }
   ],
   "source": [
    "# if we want to add some items to dictionary:\n",
    "\n",
    "customer['birthdate'] = 1996                   # this is so easy \n",
    "customer"
   ]
  },
  {
   "cell_type": "code",
   "execution_count": 152,
   "metadata": {},
   "outputs": [
    {
     "data": {
      "text/plain": [
       "{'name': 'John Smith',\n",
       " 'age': 30,\n",
       " 'is_verified': True,\n",
       " 'birtday': 1996,\n",
       " 'birthdate': 2002}"
      ]
     },
     "execution_count": 152,
     "metadata": {},
     "output_type": "execute_result"
    }
   ],
   "source": [
    "# and we can change the values so easy:\n",
    "\n",
    "customer['birthdate'] = 2002                  \n",
    "customer"
   ]
  },
  {
   "cell_type": "markdown",
   "metadata": {},
   "source": [
    "># **Exercise**\n",
    "\n",
    ">> Program ask our phone number. Let's type 1234. We type it in digits and then this will translate it, to words: one two tree four"
   ]
  },
  {
   "cell_type": "code",
   "execution_count": 176,
   "metadata": {},
   "outputs": [],
   "source": [
    "my_dict = {\n",
    "    1: 'one',\n",
    "    2: 'two',\n",
    "    3: 'three',\n",
    "    4: 'four',\n",
    "    5: 'five',\n",
    "    6: 'six',\n",
    "    7: 'seven',\n",
    "    8: 'eight',\n",
    "    9: 'nine',\n",
    "    0: 'zero'\n",
    "}\n"
   ]
  },
  {
   "cell_type": "code",
   "execution_count": 177,
   "metadata": {},
   "outputs": [
    {
     "name": "stdout",
     "output_type": "stream",
     "text": [
      " zero five five one zero two zero four seven four nine\n"
     ]
    }
   ],
   "source": [
    "phone_num = input('Phone: ')\n",
    "my_string = \"\"\n",
    "for num in phone_num:\n",
    "    num = int(num)\n",
    "    my_string = my_string + \" \" + my_dict[num]\n",
    "print(my_string)"
   ]
  },
  {
   "cell_type": "code",
   "execution_count": null,
   "metadata": {},
   "outputs": [],
   "source": []
  }
 ],
 "metadata": {
  "kernelspec": {
   "display_name": "Python 3",
   "language": "python",
   "name": "python3"
  },
  "language_info": {
   "codemirror_mode": {
    "name": "ipython",
    "version": 3
   },
   "file_extension": ".py",
   "mimetype": "text/x-python",
   "name": "python",
   "nbconvert_exporter": "python",
   "pygments_lexer": "ipython3",
   "version": "3.9.13"
  }
 },
 "nbformat": 4,
 "nbformat_minor": 2
}
