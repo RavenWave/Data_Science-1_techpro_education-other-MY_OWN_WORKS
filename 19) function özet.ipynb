{
 "cells": [
  {
   "cell_type": "markdown",
   "metadata": {},
   "source": [
    "# FONKSİYONLAR İLE İLGİLİ KISA BİR ÖZET"
   ]
  },
  {
   "cell_type": "markdown",
   "metadata": {},
   "source": [
    "    def fonksiyon_ismi(fonksiyonda_kullanılacak_olan_değişkenler):\n",
    "        \"\"\"fonksiyon ile ilgili açıklamalar\"\"\"\n",
    "        fonksiyonun_işemleri"
   ]
  },
  {
   "cell_type": "markdown",
   "metadata": {},
   "source": [
    "    kullanıcıdan isim soyisim ve yaş bilgisi alır. aldığı ismin uzunluğu kaç ise, yaşının o dereceden kuvvetini alan bir fonksiyon:"
   ]
  },
  {
   "cell_type": "code",
   "execution_count": 1,
   "metadata": {},
   "outputs": [],
   "source": [
    "def isim_kuvvet():\n",
    "    \"\"\"\n",
    "    bu fonksiyon, kullancının yaşının, kullanıcının ismi cinsinden kuvvetini hesaplar. \n",
    "    \"\"\"\n",
    "    isim = input('İsim Soyisim: ')\n",
    "    yaş = int(input('Yaşınız: '))\n",
    "    uzunluk = len(isim)\n",
    "    result = yaş ** uzunluk\n",
    "    return f\"yaşınızın isminiz cinsinden kuvvet: {result}\""
   ]
  },
  {
   "cell_type": "code",
   "execution_count": 14,
   "metadata": {},
   "outputs": [
    {
     "data": {
      "text/plain": [
       "'yaşınızın isminiz cinsinden kuvvet: 19928148895209409152340197376'"
      ]
     },
     "execution_count": 14,
     "metadata": {},
     "output_type": "execute_result"
    }
   ],
   "source": [
    "isim_kuvvet()"
   ]
  },
  {
   "cell_type": "markdown",
   "metadata": {},
   "source": [
    "### parametre yazmak zorunda değiliz:\n"
   ]
  },
  {
   "cell_type": "code",
   "execution_count": 21,
   "metadata": {},
   "outputs": [],
   "source": [
    "def şarkı_listesi():\n",
    "    \"\"\"\n",
    "    bu fonksiyon, sevdiğim şarkıların listesini yazdırır\n",
    "    \"\"\"\n",
    "    liste = ['Bob Dylan - Mr. Toumberlain', 'Frank Sinatra - My Way', 'Falcon - Jenay']\n",
    "\n",
    "    return liste"
   ]
  },
  {
   "cell_type": "code",
   "execution_count": 22,
   "metadata": {},
   "outputs": [
    {
     "data": {
      "text/plain": [
       "['Bob Dylan - Mr. Toumberlain', 'Frank Sinatra - My Way', 'Falcon - Jenay']"
      ]
     },
     "execution_count": 22,
     "metadata": {},
     "output_type": "execute_result"
    }
   ],
   "source": [
    "şarkı_listesi()"
   ]
  },
  {
   "cell_type": "code",
   "execution_count": 33,
   "metadata": {},
   "outputs": [],
   "source": [
    "# hesap makinesi:\n",
    "\n",
    "def calculator(num1, op, num2):\n",
    "    \"\"\"bu fonksiyon, basit bir hesap makinesi görevi görür\"\"\"\n",
    "    if op == '+':\n",
    "        return num1 + num2\n",
    "    if op == '-':\n",
    "        return num1 - num2\n",
    "    if op == 'x':\n",
    "        return num1 * num2\n",
    "    if op == '/':\n",
    "        return num1 / num2\n",
    "    else:\n",
    "        'hatalı giriş yaptınız'"
   ]
  },
  {
   "cell_type": "code",
   "execution_count": 27,
   "metadata": {},
   "outputs": [
    {
     "data": {
      "text/plain": [
       "156"
      ]
     },
     "execution_count": 27,
     "metadata": {},
     "output_type": "execute_result"
    }
   ],
   "source": [
    "calculator(12, 'x', 13)"
   ]
  },
  {
   "cell_type": "code",
   "execution_count": 34,
   "metadata": {},
   "outputs": [
    {
     "data": {
      "text/plain": [
       "'bu fonksiyon, basit bir hesap makinesi görevi görür'"
      ]
     },
     "execution_count": 34,
     "metadata": {},
     "output_type": "execute_result"
    }
   ],
   "source": [
    "calculator.__doc__"
   ]
  },
  {
   "cell_type": "code",
   "execution_count": 35,
   "metadata": {},
   "outputs": [
    {
     "name": "stdout",
     "output_type": "stream",
     "text": [
      "Help on function calculator in module __main__:\n",
      "\n",
      "calculator(num1, op, num2)\n",
      "    bu fonksiyon, basit bir hesap makinesi görevi görür\n",
      "\n"
     ]
    }
   ],
   "source": [
    "help(calculator)"
   ]
  },
  {
   "cell_type": "markdown",
   "metadata": {},
   "source": [
    "## *print ile return arasındaki fark: print'i sadece sonuç görmek için kullanılır. elde ettiğimiz sonucu eğer aktif şekilde kullanacaksak print yerine return kullanmalıyız*"
   ]
  },
  {
   "cell_type": "markdown",
   "metadata": {},
   "source": [
    "> listelerin içerisindeki sayıları tek ve çift olmasına göre farklı iki listeye ayıran fonksiyon:"
   ]
  },
  {
   "cell_type": "code",
   "execution_count": 84,
   "metadata": {},
   "outputs": [
    {
     "name": "stdout",
     "output_type": "stream",
     "text": [
      "tek liste:  [1, 3, 23, 15, 745, 123] \n",
      "çift liste: [2, 12, 2, 4]\n"
     ]
    }
   ],
   "source": [
    "def tek_çift(liste):\n",
    "    \"\"\"bu fonksiyon, listelerin içerisindeki tek ve çift sayıları ayrı ayrı listelere dağıtır\"\"\"\n",
    "    tek = []\n",
    "    çift = []\n",
    "    [tek.append(i) if i % 2 else çift.append(i) for i in liste]\n",
    "    print(f\"tek liste:  {tek} \\nçift liste: {çift}\")\n",
    "    \n",
    "tek_çift([1, 2, 3, 23, 15, 12, 745, 2, 123, 4])"
   ]
  },
  {
   "cell_type": "markdown",
   "metadata": {},
   "source": [
    "## POSITIONAL ARGUMENTS AND KEYWORD ARGUMENTS"
   ]
  },
  {
   "cell_type": "code",
   "execution_count": 85,
   "metadata": {},
   "outputs": [],
   "source": [
    "## aşağıdaki gibi normal bir durum olunca positional arguments kullanılmış oluyor\n",
    "\n",
    "def my_name(first_name, last_name):\n",
    "    print(f\"My name is {first_name} {last_name}.\")"
   ]
  },
  {
   "cell_type": "code",
   "execution_count": 86,
   "metadata": {},
   "outputs": [
    {
     "name": "stdout",
     "output_type": "stream",
     "text": [
      "My name is çakır emre.\n"
     ]
    }
   ],
   "source": [
    "my_name('çakır', 'emre')    # görüldüğü gibi, sıralama çok önemli."
   ]
  },
  {
   "cell_type": "code",
   "execution_count": 94,
   "metadata": {},
   "outputs": [],
   "source": [
    "# aşağıdaki gibi olunca keyword argument kullanılmış oluyor. \n",
    "\n",
    "def your_name(first_name, last_name='Erdal'):   # bureda Erdal keyword argument'dır. ve eğer hiçbir şey yazılmaz ise, default değerdir\n",
    "    print(f\"Your name is {first_name} {last_name}.\")"
   ]
  },
  {
   "cell_type": "code",
   "execution_count": 95,
   "metadata": {},
   "outputs": [
    {
     "name": "stdout",
     "output_type": "stream",
     "text": [
      "Your name is Emre Erdal.\n"
     ]
    }
   ],
   "source": [
    "your_name('Emre')       # görüldüğü gibi, Erdal soyismini otomatik atadı."
   ]
  },
  {
   "cell_type": "code",
   "execution_count": 92,
   "metadata": {},
   "outputs": [
    {
     "name": "stdout",
     "output_type": "stream",
     "text": [
      "Your name is emre çakır.\n"
     ]
    }
   ],
   "source": []
  },
  {
   "cell_type": "markdown",
   "metadata": {},
   "source": [
    "## (*args, **kwargs) - ARBITRARY NUMBER OF ARGUMENTS"
   ]
  },
  {
   "cell_type": "markdown",
   "metadata": {},
   "source": [
    "bunların amacı, def içerisine koyacağımız elemanların sınırlamasını kaldırmak. önceki işlemlerde eğer tanımlanan değişkenlerden bir tanesini bile girmezsek hata verirken, bunun önüne geçmiş olacağız"
   ]
  },
  {
   "cell_type": "code",
   "execution_count": 96,
   "metadata": {},
   "outputs": [
    {
     "data": {
      "text/plain": [
       "[3, 53, 67]"
      ]
     },
     "execution_count": 96,
     "metadata": {},
     "output_type": "execute_result"
    }
   ],
   "source": [
    "def tek_sayılar2(* sayılar):    # buradaki asteriks simgesi sayılar argumanının kaç adet olduğunu önemsiz hale getirdi yani istediğimiz kadar sayı yazabiliriz.\n",
    "    tek_sayılar = []\n",
    "    for i in sayılar:\n",
    "        if i % 2:\n",
    "            tek_sayılar.append(i)\n",
    "    return tek_sayılar\n",
    "\n",
    "tek_sayılar2(12, 3, 1212, 68, 53, 32, 67, 12)"
   ]
  },
  {
   "cell_type": "code",
   "execution_count": 97,
   "metadata": {},
   "outputs": [
    {
     "data": {
      "text/plain": [
       "[3, 53, 67]"
      ]
     },
     "execution_count": 97,
     "metadata": {},
     "output_type": "execute_result"
    }
   ],
   "source": [
    "def tek_sayılar2(* sayılar):    \n",
    "    tek_sayılar = []\n",
    "    [tek_sayılar.append(i) for i in sayılar if i % 2]       # list_comprehension kullandık\n",
    "    return tek_sayılar \n",
    "\n",
    "tek_sayılar2(12, 3, 1212, 68, 53, 32, 67, 12)"
   ]
  },
  {
   "cell_type": "code",
   "execution_count": 100,
   "metadata": {},
   "outputs": [
    {
     "name": "stdout",
     "output_type": "stream",
     "text": [
      "key: name1, value seyda\n",
      "key: name2, value medine\n",
      "key: name3, value orkun\n"
     ]
    }
   ],
   "source": [
    "dict_1 = {'name1': 'seyda', 'name2': 'medine', 'name3': 'orkun'}\n",
    "\n",
    "def kwardgs_function(** kwargs):\n",
    "    for i, j in kwargs.items():\n",
    "        print(f\"key: {i}, value {j}\")\n",
    "\n",
    "kwardgs_function(**dict_1)  # önemli: hazır bir dict kullanmak için önüne çift asteriks koymamız gerekiyor"
   ]
  },
  {
   "cell_type": "code",
   "execution_count": 101,
   "metadata": {},
   "outputs": [
    {
     "name": "stdout",
     "output_type": "stream",
     "text": [
      "key: name_1, value emre\n",
      "key: name_2, value irem\n"
     ]
    }
   ],
   "source": [
    "kwardgs_function(name_1= 'emre', name_2= 'irem')"
   ]
  }
 ],
 "metadata": {
  "kernelspec": {
   "display_name": "Python 3",
   "language": "python",
   "name": "python3"
  },
  "language_info": {
   "codemirror_mode": {
    "name": "ipython",
    "version": 3
   },
   "file_extension": ".py",
   "mimetype": "text/x-python",
   "name": "python",
   "nbconvert_exporter": "python",
   "pygments_lexer": "ipython3",
   "version": "3.9.13"
  }
 },
 "nbformat": 4,
 "nbformat_minor": 2
}
