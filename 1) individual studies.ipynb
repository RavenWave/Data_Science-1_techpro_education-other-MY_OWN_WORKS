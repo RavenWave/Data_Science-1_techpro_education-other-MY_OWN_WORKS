{
 "cells": [
  {
   "cell_type": "markdown",
   "metadata": {},
   "source": [
    "# **In this file, there are numerous studies. These studies are not relevant each other.**"
   ]
  },
  {
   "cell_type": "code",
   "execution_count": 2,
   "metadata": {},
   "outputs": [
    {
     "name": "stdout",
     "output_type": "stream",
     "text": [
      "Your age is 57\n"
     ]
    }
   ],
   "source": [
    "# In this program, you'll write your birth day and you'll see how old are you.\n",
    "\n",
    "birth_year = input(\"When you born? \")\n",
    "now = 2023\n",
    "age = now - int(birth_year)\n",
    "print(\"Your age is\", age, sep=\" \")"
   ]
  },
  {
   "cell_type": "code",
   "execution_count": 5,
   "metadata": {},
   "outputs": [
    {
     "name": "stdout",
     "output_type": "stream",
     "text": [
      "Emre Cakir Ne Yapiyor Kim Bilebilir?\n"
     ]
    }
   ],
   "source": [
    "# title() is a method for strings. It does uppercase first character of all words. \n",
    "\n",
    "variable_1 = \"emre cakir ne yapiyor kim bilebilir?\"\n",
    "variable_2 = 24\n",
    "\n",
    "print(variable_1.title())"
   ]
  },
  {
   "cell_type": "code",
   "execution_count": 6,
   "metadata": {},
   "outputs": [
    {
     "name": "stdout",
     "output_type": "stream",
     "text": [
      "Emre cakir ne yapiyor kim bilebilir?\n"
     ]
    }
   ],
   "source": [
    "# capitalize() is a method for strings. It does uppercase just first word. \n",
    "\n",
    "variable_1 = \"emre cakir ne yapiyor kim bilebilir?\"\n",
    "variable_2 = 24\n",
    "\n",
    "print(variable_1.capitalize())"
   ]
  },
  {
   "cell_type": "code",
   "execution_count": 7,
   "metadata": {},
   "outputs": [
    {
     "name": "stdout",
     "output_type": "stream",
     "text": [
      "Irem Cakir\n"
     ]
    }
   ],
   "source": [
    "# replace() is a method for strings. It replaces some words with others.\n",
    "\n",
    "name = \"Irem Cukurlu\"\n",
    "print(name.replace(\"Cukurlu\",\"Cakir\"))\n"
   ]
  },
  {
   "cell_type": "code",
   "execution_count": 5,
   "metadata": {},
   "outputs": [
    {
     "name": "stdout",
     "output_type": "stream",
     "text": [
      "Türkiyedeki illerin 23 tanesi sesli harfle başlamaktadır.\n"
     ]
    }
   ],
   "source": [
    "# This program runs the number of cities starting vowel in Turkey.\n",
    "\n",
    "import pandas as pd\n",
    "\n",
    "df = pd.read_csv(\"SOURCES/1) il.csv\",index_col = 'plaka')\n",
    "list_vowel = (\"A\",\"E\",\"I\",\"İ\",\"O\",\"Ö\",\"U\",\"Ü\")\n",
    "say = 0\n",
    "\n",
    "for i in range(1,82):\n",
    "    x = df['il_adi'][i][0]\n",
    "    if x in list_vowel:\n",
    "        say += 1\n",
    "print('Türkiyedeki illerin {} tanesi sesli harfle başlamaktadır.'.format(say))  "
   ]
  },
  {
   "cell_type": "code",
   "execution_count": 11,
   "metadata": {},
   "outputs": [
    {
     "name": "stdout",
     "output_type": "stream",
     "text": [
      "Name must be at least 3 characters!\n"
     ]
    }
   ],
   "source": [
    "# Record Game: You'll write a name. And it tests name you wrote whether eligible. \n",
    "\n",
    "name = input(\"Name: \")\n",
    "len_name = len(name)\n",
    "message_1 = \"Name must be at least 3 characters!\"\n",
    "message_2 = \"Name can be maximum of 50 characters!\"\n",
    "message_well = \"Name looks good :)\"\n",
    "\n",
    "if len_name < 3: \n",
    "    print(message_1)\n",
    "elif len_name > 50:\n",
    "    print(message_2)\n",
    "else:\n",
    "    print(message_well)\n"
   ]
  },
  {
   "cell_type": "code",
   "execution_count": 12,
   "metadata": {},
   "outputs": [
    {
     "name": "stdout",
     "output_type": "stream",
     "text": [
      "273 lbs\n"
     ]
    }
   ],
   "source": [
    "# This program converts the kilo you will write from kg to lbs or from lbs to kg.\n",
    "\n",
    "weight = input(\"Weight = \")\n",
    "q_weight = input(\"L(bs) or K(g)? \")\n",
    "\n",
    "if q_weight == \"L\" or q_weight == \"l\":\n",
    "    kg = int(weight)*0.45\n",
    "    print(f\"{int(kg)} kg\")\n",
    "elif q_weight == \"K\" or q_weight == \"k\":\n",
    "    lbs = int(weight)*(100/45)\n",
    "    print(f\"{int(lbs)} lbs\")\n",
    "else:\n",
    "    print(\"Invalid values!\")"
   ]
  },
  {
   "cell_type": "code",
   "execution_count": 14,
   "metadata": {},
   "outputs": [
    {
     "name": "stdout",
     "output_type": "stream",
     "text": [
      "You Win!\n"
     ]
    }
   ],
   "source": [
    "# Number guessing program.\n",
    "\n",
    "num = 9\n",
    "right = 1\n",
    "while right <= 3:\n",
    "    guess = int(input(\"Guess a number: \"))\n",
    "    if guess == num:\n",
    "        print(\"You Win!\")\n",
    "        break\n",
    "    right += 1\n",
    "if right == 4:\n",
    "    print(\"You've failed!\")\n"
   ]
  },
  {
   "cell_type": "code",
   "execution_count": 1,
   "metadata": {},
   "outputs": [],
   "source": [
    "# Car Game: We want to run this program until the user types \"quit\".\n",
    "i = 1\n",
    "while i<=10:\n",
    "    text = input(\"> \")\n",
    "    if text.lower() == \"help\":\n",
    "        print('''start - to start our car\n",
    "stop  - to stop our car\n",
    "quit  - to terminate the game''') \n",
    "    elif text.lower() == \"start\":\n",
    "        print(\"Car started... Ready to go!\")\n",
    "    elif text.lower() == \"stop\":\n",
    "        print(\"Car stopped.\")\n",
    "    elif text.lower() == \"quit\":\n",
    "        break\n",
    "    i += 1"
   ]
  },
  {
   "cell_type": "code",
   "execution_count": 3,
   "metadata": {},
   "outputs": [
    {
     "name": "stdout",
     "output_type": "stream",
     "text": [
      "Sorry. I don't understand that.\n",
      "\n",
      "start- to start the car\n",
      "stop - to stop the car\n",
      "quit - to quit      \n",
      "        \n",
      "Car started... Ready to go!\n",
      "Car started... Ready to go!\n",
      "Car stopped.\n",
      "Car stopped.\n",
      "Car started... Ready to go!\n",
      "Car started... Ready to go!\n"
     ]
    }
   ],
   "source": [
    "# Car Game: We want to run this program until the user types \"quit\".\n",
    "# \"while True:\" --> break komutu görünene gerçekleşene kadar devam eder.\n",
    "\n",
    "command = \"\"\n",
    "while True:\n",
    "    command = input(\"> \").lower()\n",
    "    if command == \"start\":\n",
    "        print(\"Car started... Ready to go!\")\n",
    "    elif command == \"stop\":\n",
    "        print(\"Car stopped.\")\n",
    "    elif command == \"help\":\n",
    "        print(\"\"\"\n",
    "start- to start the car\n",
    "stop - to stop the car\n",
    "quit - to quit      \n",
    "        \"\"\")\n",
    "    elif command == \"quit\":\n",
    "        break\n",
    "    else:\n",
    "        print(\"Sorry. I don't understand that.\")"
   ]
  },
  {
   "cell_type": "code",
   "execution_count": null,
   "metadata": {},
   "outputs": [],
   "source": [
    "# We don't want to see the same answers twice.\n",
    "command = \"\"\n",
    "started = False\n",
    "while True:\n",
    "    command = input(\"> \").lower()\n",
    "    if command == \"start\":\n",
    "        if started:\n",
    "            print(\"Car is already started!\")\n",
    "        else:\n",
    "            started = True\n",
    "            print(\"Car started... Ready to go!\")\n",
    "    elif command == \"stop\":\n",
    "        if not started:\n",
    "            print(\"Car is already stopped!\")\n",
    "        else:\n",
    "            started = False\n",
    "            print(\"Car stopped.\")\n",
    "    elif command == \"help\":\n",
    "        print(\"\"\"\n",
    "start- to start the car\n",
    "stop - to stop the car\n",
    "quit - to quit      \n",
    "        \"\"\")\n",
    "    elif command == \"quit\":\n",
    "        break\n",
    "    else:\n",
    "        print(\"Sorry. I don't understand that.\")\n"
   ]
  },
  {
   "cell_type": "code",
   "execution_count": 1,
   "metadata": {},
   "outputs": [
    {
     "name": "stdout",
     "output_type": "stream",
     "text": [
      "660\n"
     ]
    }
   ],
   "source": [
    "# kdv oranı yüzde 20 iken, kdv miktarı girilen bir sayının kdv sonrasındaki halini veren 1. program:\n",
    "\n",
    "kdv_oranı = 0.20                                         # yüzde 20 == 20% == 20/100 == 0.20 \n",
    "kdv_miktarı = int(input(\"KDV miktarını giriniz: \"))      # Kaç TL'lik bir KDV miktarı olduğu burada belirlenir.\n",
    "ham_bedel = kdv_miktarı / kdv_oranı                      # ürün veya hizmetin KDV uygulanmadan önceki bedeli ham bedelidir\n",
    "kdvli_bedel = ham_bedel + kdv_miktarı                    # ürün veya hizmetin KDV uygulandıktan sonraki bedeli aradığımız sonuçtur\n",
    "print(int(kdvli_bedel))"
   ]
  },
  {
   "cell_type": "code",
   "execution_count": 2,
   "metadata": {},
   "outputs": [
    {
     "name": "stdout",
     "output_type": "stream",
     "text": [
      "660\n"
     ]
    }
   ],
   "source": [
    "# kdv oranı yüzde 20 iken, kdv miktarı girilen bir sayının kdv sonrasındaki halini veren 2. program:\n",
    "\n",
    "\n",
    "sayi = int(input(\"Sayı giriniz: \"))                      \n",
    "z = sayi * 6\n",
    "print(z)"
   ]
  }
 ],
 "metadata": {
  "kernelspec": {
   "display_name": "Python 3",
   "language": "python",
   "name": "python3"
  },
  "language_info": {
   "codemirror_mode": {
    "name": "ipython",
    "version": 3
   },
   "file_extension": ".py",
   "mimetype": "text/x-python",
   "name": "python",
   "nbconvert_exporter": "python",
   "pygments_lexer": "ipython3",
   "version": "3.9.13"
  }
 },
 "nbformat": 4,
 "nbformat_minor": 2
}
