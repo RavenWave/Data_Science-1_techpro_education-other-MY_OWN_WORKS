{
 "cells": [
  {
   "cell_type": "markdown",
   "metadata": {},
   "source": [
    "# **DICTIONARY İLE İLGİLİ SEVDİĞİM ÖZELLİKLER**"
   ]
  },
  {
   "cell_type": "markdown",
   "metadata": {},
   "source": [
    "## **1) Dict Oluşturma**"
   ]
  },
  {
   "cell_type": "code",
   "execution_count": 20,
   "metadata": {},
   "outputs": [],
   "source": [
    "## 1. Yöntem\n",
    "a = {}      \n",
    "a_1 = {'key1':'value1', 'key2':'value2'}\n",
    "\n",
    "## 2. Yöntem\n",
    "b = dict() \n",
    "b_1 = dict([(21, 'Emre'), (22, 'İrem'), (23, 'Süheyla')])\n",
    "\n",
    "## 3. Yöntem\n",
    "c = dict(one = 1, two = 2, three = 3)       # one = 1 şeklinde olur AMA 1 = one şeklinde olmaz. Değişken atama gibi düşün"
   ]
  },
  {
   "cell_type": "markdown",
   "metadata": {},
   "source": [
    "## **2) Listeye Çevirerek İşlem Yapmak / items() metodu**"
   ]
  },
  {
   "cell_type": "code",
   "execution_count": 21,
   "metadata": {},
   "outputs": [
    {
     "data": {
      "text/plain": [
       "('key1', 'value1')"
      ]
     },
     "execution_count": 21,
     "metadata": {},
     "output_type": "execute_result"
    }
   ],
   "source": [
    "x = a_1.items()     \n",
    "\n",
    "a_1_list = list(x)        \n",
    "a_1_list[0]                        \n",
    "\n",
    "# normalde indexleme vs. yapılamayan dict'leri yukarıdaki işlemler uygulanarak listeye çevirip rahatlıkla indexleme yapabiliriz"
   ]
  },
  {
   "cell_type": "markdown",
   "metadata": {},
   "source": [
    "## **3) keys() & values() metodları**"
   ]
  },
  {
   "cell_type": "code",
   "execution_count": 22,
   "metadata": {},
   "outputs": [
    {
     "data": {
      "text/plain": [
       "dict_values(['Emre', 'İrem', 'Süheyla'])"
      ]
     },
     "execution_count": 22,
     "metadata": {},
     "output_type": "execute_result"
    }
   ],
   "source": [
    "b_1.keys()          \n",
    "b_1.values()      \n",
    "\n",
    "## NOT: keys ve values kullanılarak işlem yapılmak isteniyorsa, items()'da olduğu gibi listeye çevirmeliyiz"
   ]
  },
  {
   "cell_type": "markdown",
   "metadata": {},
   "source": [
    "## **4) Eleman Ekleme**"
   ]
  },
  {
   "cell_type": "code",
   "execution_count": 1,
   "metadata": {},
   "outputs": [],
   "source": [
    "# 1) update() metodu\n",
    "\n",
    "dict_friend = {\n",
    "    'firend1': 'Emre',\n",
    "    'firend2': 'Erkin',\n",
    "    'firend3': 'Ozan'\n",
    "}\n",
    "dict_friend.update({'friend4': 'İrem', 'friend5':'Süheyla'}) \n",
    "dict_friend\n",
    "\n",
    "# 2) pratik yöntem \n",
    "dict_friend['friend6'] = 'Osman'        # eğer bir dict'e, içerisinde bulunmayan bir key ile soldaki gibi bir işlem yapılmış ise, o keye atama yapılırak yeni bir key:value çifti elde edilir"
   ]
  },
  {
   "cell_type": "markdown",
   "metadata": {},
   "source": [
    "## **5) pop() metodunda key'ler kullanılarak eleman silmek**"
   ]
  },
  {
   "cell_type": "code",
   "execution_count": 24,
   "metadata": {},
   "outputs": [
    {
     "data": {
      "text/plain": [
       "{'firend1': 'Emre', 'firend2': 'Erkin', 'firend3': 'Ozan', 'friend4': 'İrem'}"
      ]
     },
     "execution_count": 24,
     "metadata": {},
     "output_type": "execute_result"
    }
   ],
   "source": [
    "dict_friend.pop('friend5')      \n",
    "dict_friend"
   ]
  },
  {
   "cell_type": "markdown",
   "metadata": {},
   "source": [
    "## **6) clear() metodu ile boş küme elde etmek**"
   ]
  },
  {
   "cell_type": "code",
   "execution_count": 25,
   "metadata": {},
   "outputs": [
    {
     "data": {
      "text/plain": [
       "{}"
      ]
     },
     "execution_count": 25,
     "metadata": {},
     "output_type": "execute_result"
    }
   ],
   "source": [
    "dict_friend.clear()     \n",
    "dict_friend"
   ]
  },
  {
   "cell_type": "markdown",
   "metadata": {},
   "source": [
    "## **7) tuple'lar key olabilir, list'ler key olamaz**"
   ]
  },
  {
   "cell_type": "code",
   "execution_count": 26,
   "metadata": {},
   "outputs": [
    {
     "data": {
      "text/plain": [
       "{(1, 2, 3): 'sayılar_listesi'}"
      ]
     },
     "execution_count": 26,
     "metadata": {},
     "output_type": "execute_result"
    }
   ],
   "source": [
    "dict_new = {(1, 2, 3): 'sayılar_listesi'}   # (1, 2, 3) tuple'ı yerine [1, 2, 3] listesini koysaydık kabul olmazdı\n",
    "dict_new\n",
    "\n",
    "## NOT: value'lar konusunda böyle bir durum yok, onlar liste de olabilir."
   ]
  },
  {
   "cell_type": "markdown",
   "metadata": {},
   "source": [
    "## **8) list oluşturma (key:value çiftleri tuple içerisinde olacak şekilde)**"
   ]
  },
  {
   "cell_type": "code",
   "execution_count": 3,
   "metadata": {},
   "outputs": [
    {
     "name": "stdout",
     "output_type": "stream",
     "text": [
      "['emre', 'irem']\n",
      "[('emre', ['data science', 'makine müh.']), ('irem', ['data science', 'işletme'])]\n"
     ]
    }
   ],
   "source": [
    "dict_best = {'emre': ['data science', 'makine müh.'], 'irem': ['data science', 'işletme']}\n",
    "print(list(dict_best))         # bu şekilde oluşturulan listede sadece key'ler yer alır.\n",
    "print(list(dict_best.items()))   # bu şekilde hem key hem value'ler yer alır tuple çiftleri şeklinde"
   ]
  }
 ],
 "metadata": {
  "kernelspec": {
   "display_name": "Python 3",
   "language": "python",
   "name": "python3"
  },
  "language_info": {
   "codemirror_mode": {
    "name": "ipython",
    "version": 3
   },
   "file_extension": ".py",
   "mimetype": "text/x-python",
   "name": "python",
   "nbconvert_exporter": "python",
   "pygments_lexer": "ipython3",
   "version": "3.9.13"
  }
 },
 "nbformat": 4,
 "nbformat_minor": 2
}
