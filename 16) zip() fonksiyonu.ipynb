{
 "cells": [
  {
   "cell_type": "markdown",
   "metadata": {},
   "source": [
    "## zip() fonksiyonu en az iki farklı iterable tipi teker teker match'leyerek birleştirir. Birinci elemanları bir tuple içerisine alır, ikinci elemanları ikinci tuple içerisine alır ve bu böyle devam eder. Ta ki, iki liste arasında eleman sayısı en düşük olanın son elemanını kullanana kadar"
   ]
  },
  {
   "cell_type": "code",
   "execution_count": 1,
   "metadata": {},
   "outputs": [],
   "source": [
    "a = [\"apple\", \"orange\", \"lemon\"]\n",
    "b = [1, 2, 3]"
   ]
  },
  {
   "cell_type": "code",
   "execution_count": 2,
   "metadata": {},
   "outputs": [
    {
     "data": {
      "text/plain": [
       "[('apple', 1), ('orange', 2), ('lemon', 3)]"
      ]
     },
     "execution_count": 2,
     "metadata": {},
     "output_type": "execute_result"
    }
   ],
   "source": [
    "list(zip(a, b))     # zip() fonksiyonunu bir list veya tuple ile vs oluşturumak zorundayız"
   ]
  },
  {
   "cell_type": "code",
   "execution_count": 3,
   "metadata": {},
   "outputs": [
    {
     "data": {
      "text/plain": [
       "[(1, 'apple'), (2, 'orange'), (3, 'lemon')]"
      ]
     },
     "execution_count": 3,
     "metadata": {},
     "output_type": "execute_result"
    }
   ],
   "source": [
    "list(zip(b, a))"
   ]
  },
  {
   "cell_type": "code",
   "execution_count": 4,
   "metadata": {},
   "outputs": [
    {
     "data": {
      "text/plain": [
       "[('T', 'C', 'A'), ('e', 'i', 'y'), ('c', 'h', 'ş'), ('h', 'a', 'e')]"
      ]
     },
     "execution_count": 4,
     "metadata": {},
     "output_type": "execute_result"
    }
   ],
   "source": [
    "x = \"Techpro\"   # 7 eleman\n",
    "y = \"Cihan\"     # 5 eleman\n",
    "z = \"Ayşe\"      # 4 eleman\n",
    "\n",
    "list(zip(x, y, z))      # eleman sayısı en az olan değişken z yani 4'tür. O yüzden diğer değişkenlerin ilk dört item'ını alıp zip yapar"
   ]
  },
  {
   "cell_type": "code",
   "execution_count": 5,
   "metadata": {},
   "outputs": [
    {
     "data": {
      "text/plain": [
       "[('Techpro', 'Techpro', 'Ayşe'),\n",
       " ('emre', 'emre', 'çakır'),\n",
       " ('çakır', 'çakır', 'irem'),\n",
       " ('irem', 'irem', 'ozan')]"
      ]
     },
     "execution_count": 5,
     "metadata": {},
     "output_type": "execute_result"
    }
   ],
   "source": [
    "x = [\"Techpro\", \"emre\", \"çakır\", \"irem\", \"ozan\", \"erkin\", \"hacer\"]   # 7 eleman --> \"ozan\", \"erkin\", \"hacer\" bu elemanalar ziplenmeyecek\n",
    "y = [\"Techpro\", \"emre\", \"çakır\", \"irem\", \"ozan\"]     # 5 eleman --> \"irem\", \"ozan\" bu elemanalar ziplenmeyecek\n",
    "z = [\"Ayşe\", \"çakır\", \"irem\", \"ozan\"]      # 4 eleman --> tüm elemanları ziplenece\n",
    "\n",
    "list(zip(x, y, z))      # eleman sayısı en az olan değişken z yani 4'tür. O yüzden diğer değişkenlerin ilk dört item'ını alıp zip yapar"
   ]
  },
  {
   "cell_type": "markdown",
   "metadata": {},
   "source": [
    "## zip() kullanılarak çok güzel bi şekilde dictionary elde edilebilir:"
   ]
  },
  {
   "cell_type": "code",
   "execution_count": 6,
   "metadata": {},
   "outputs": [
    {
     "data": {
      "text/plain": [
       "{'apple': 1, 'orange': 2, 'lemon': 3}"
      ]
     },
     "execution_count": 6,
     "metadata": {},
     "output_type": "execute_result"
    }
   ],
   "source": [
    "a = [\"apple\", \"orange\", \"lemon\"]\n",
    "b = [1, 2, 3]\n",
    "\n",
    "dict(zip(a, b))"
   ]
  },
  {
   "cell_type": "code",
   "execution_count": 7,
   "metadata": {},
   "outputs": [
    {
     "data": {
      "text/plain": [
       "{1: 'apple', 2: 'orange', 3: 'lemon'}"
      ]
     },
     "execution_count": 7,
     "metadata": {},
     "output_type": "execute_result"
    }
   ],
   "source": [
    "dict(zip(b, a))"
   ]
  },
  {
   "cell_type": "markdown",
   "metadata": {},
   "source": [
    "## for ile kullanımı:"
   ]
  },
  {
   "cell_type": "code",
   "execution_count": 8,
   "metadata": {},
   "outputs": [
    {
     "data": {
      "text/plain": [
       "[('irem', 25, 'data_scientist'),\n",
       " ('betül', 26, 'python_developer'),\n",
       " ('tülay', 27, 'data_analyst')]"
      ]
     },
     "execution_count": 8,
     "metadata": {},
     "output_type": "execute_result"
    }
   ],
   "source": [
    "name = [\"irem\", \"betül\", \"tülay\"]\n",
    "age = [25, 26, 27]\n",
    "job = [\"data_scientist\", \"python_developer\", \"data_analyst\"]\n",
    "\n",
    "list(zip(name, age, job))"
   ]
  },
  {
   "cell_type": "code",
   "execution_count": 9,
   "metadata": {},
   "outputs": [
    {
     "name": "stdout",
     "output_type": "stream",
     "text": [
      "('irem', 25, 'data_scientist')\n",
      "('betül', 26, 'python_developer')\n",
      "('tülay', 27, 'data_analyst')\n"
     ]
    }
   ],
   "source": [
    "for item in zip(name, age, job):\n",
    "    print(item)"
   ]
  },
  {
   "cell_type": "code",
   "execution_count": 10,
   "metadata": {},
   "outputs": [
    {
     "name": "stdout",
     "output_type": "stream",
     "text": [
      "name: irem  , age: 25  , job: data_scientist\n",
      "name: betül , age: 26  , job: python_developer\n",
      "name: tülay , age: 27  , job: data_analyst\n"
     ]
    }
   ],
   "source": [
    "for i, j, k in zip(name, age, job):\n",
    "    print(f\"name: {i:6}, age: {j:<4}, job: {k}\")"
   ]
  }
 ],
 "metadata": {
  "kernelspec": {
   "display_name": "Python 3",
   "language": "python",
   "name": "python3"
  },
  "language_info": {
   "codemirror_mode": {
    "name": "ipython",
    "version": 3
   },
   "file_extension": ".py",
   "mimetype": "text/x-python",
   "name": "python",
   "nbconvert_exporter": "python",
   "pygments_lexer": "ipython3",
   "version": "3.9.13"
  }
 },
 "nbformat": 4,
 "nbformat_minor": 2
}
