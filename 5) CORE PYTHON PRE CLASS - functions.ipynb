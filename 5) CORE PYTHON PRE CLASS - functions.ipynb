{
 "cells": [
  {
   "cell_type": "markdown",
   "metadata": {},
   "source": [
    "# Functions\n",
    "function'lar karmaşık işlemleri tek bir adımda yaparlar ve bir modül içerisinde bulunurlar. Modül'ler ise kütüphane içerisinde bulunurlar. Python standart kütüphanesinde 230 adet modül vardır. Python'da kabaca iki tip fonksiyon vardır. Bunlar:\n",
    "\n",
    "##### ***1. Gömülü Fonksiyonlar (build-in functions):*** print(), type(), str(), int() gibi fonksiyonlardır. Gömülü fonksiyonlar __builtins__ isimli modülde yer almaktadır. Gömülü fonksiyonları görmek için dir(__builtins__) komutunu yazmanız yeterlidir. Bu fonksiyonlar hazır tanımlandığı için herhangi bir işlem yapmadan direk kullanabiliriz.\n",
    "##### ***2. Özel Fonksiyonlar (custom functions):*** Özel fonksiyonlar bizim tarafımızdan tanımlanmıştır. Bu yüzden bu fonksiyonları kullanabilmemiz için import komutunu kullanmak şarttır. Örneğin gömülü olmayan math modülünü kullanmak istiyorsak import komutunu yazmamız gerekecektir.\n"
   ]
  },
  {
   "cell_type": "code",
   "execution_count": 11,
   "metadata": {},
   "outputs": [
    {
     "name": "stdout",
     "output_type": "stream",
     "text": [
      "10.0  sayisinin karekoku =  3.1622776601683795\n"
     ]
    }
   ],
   "source": [
    "#  O halde math modülünde neler var bir bakalım:\n",
    "\n",
    "import math\n",
    "sayi = float(input(\"Sayi Giriniz: \"))\n",
    "kok = math.sqrt(sayi)\n",
    "print(sayi,\" sayisinin karekoku = \", kok)"
   ]
  },
  {
   "cell_type": "code",
   "execution_count": 8,
   "metadata": {},
   "outputs": [
    {
     "name": "stdout",
     "output_type": "stream",
     "text": [
      "4.0\n"
     ]
    }
   ],
   "source": [
    "# İç içe karekok fonksiyonu:\n",
    "\n",
    "import math\n",
    "y = math.sqrt(math.sqrt(256))\n",
    "print(y)"
   ]
  },
  {
   "cell_type": "code",
   "execution_count": 12,
   "metadata": {},
   "outputs": [
    {
     "name": "stdout",
     "output_type": "stream",
     "text": [
      "isim:  Emre\n",
      "soyisim: Cakir\n",
      "dogum yeri: Tokat\n",
      "yas: 27\n"
     ]
    }
   ],
   "source": [
    "# Bir kayıt oluşturma sistemi kuralım:\n",
    "isim = \"Emre\"\n",
    "soyisim = \"Cakir\"\n",
    "d_yeri = \"Istanbul\"\n",
    "yas = \"27\"\n",
    "\n",
    "print(\"isim: \", isim)\n",
    "print(\"soyisim:\", soyisim)\n",
    "print(\"dogum yeri:\", d_yeri)\n",
    "print(\"yas:\", yas)"
   ]
  },
  {
   "cell_type": "code",
   "execution_count": 32,
   "metadata": {},
   "outputs": [
    {
     "name": "stdout",
     "output_type": "stream",
     "text": [
      "isim : Irem Suheyla\n",
      "soyisim : Cukurlu\n",
      "dogum yeri : Isntabul\n",
      "yas : 25\n",
      "\n",
      "isim : Erkin\n",
      "soyisim : Cakir\n",
      "dogum yeri : Isntabul\n",
      "yas : 34\n"
     ]
    }
   ],
   "source": [
    "# Eğer yeni bir kayıt oluşturmak istersek yukarıdaki kod hiç pratik değil çünkü tekrar yazmamız gerekecek. O yüzden bu işlemi daha kısa yoldan halledebileceğimiz bir function tanımlayalım:\n",
    "\n",
    "def kayit_olustur (isim, soyisim, d_yeri, yas):\n",
    "    print(\"isim :\", isim)\n",
    "    print(\"soyisim :\", soyisim)\n",
    "    print(\"dogum yeri :\", d_yeri)\n",
    "    print(\"yas :\", yas)\n",
    "\n",
    "kayit_olustur(\"Irem Suheyla\",\"Cukurlu\",\"Isntabul\",\"25\")\n",
    "print()\n",
    "kayit_olustur(\"Erkin\",\"Cakir\",\"Isntabul\",\"34\")"
   ]
  },
  {
   "cell_type": "code",
   "execution_count": 34,
   "metadata": {},
   "outputs": [
    {
     "name": "stdout",
     "output_type": "stream",
     "text": [
      "9\n"
     ]
    }
   ],
   "source": [
    "# Kare bulmaya yarayan bir function:\n",
    "\n",
    "def kare_hesapla (x):\n",
    "    print(x**2)\n",
    "\n",
    "kare_hesapla(3)"
   ]
  },
  {
   "cell_type": "code",
   "execution_count": 37,
   "metadata": {},
   "outputs": [
    {
     "name": "stdout",
     "output_type": "stream",
     "text": [
      "59049\n"
     ]
    }
   ],
   "source": [
    "# Sayilarin 10 ussunu alan function:\n",
    "\n",
    "def on_kat (x):\n",
    "    print(pow(x,10))\n",
    "\n",
    "on_kat(3)"
   ]
  },
  {
   "cell_type": "code",
   "execution_count": 41,
   "metadata": {},
   "outputs": [
    {
     "name": "stdout",
     "output_type": "stream",
     "text": [
      "1 - 2 - 3 - 4 - 5 - 6 - 7 - 8 - 9 - 10 - "
     ]
    }
   ],
   "source": [
    "# Birden 10'a kadar yazdıran function:\n",
    "\n",
    "def oneToOne ():\n",
    "    for i in range(1,11):\n",
    "        print(i,end=\" - \")\n",
    "\n",
    "oneToOne()"
   ]
  },
  {
   "cell_type": "markdown",
   "metadata": {},
   "source": [
    "# Time Functions:\n",
    "Zaman ile ilgili işlemlerin yer aldığı modüldür. Bu modül'e ait clock ve sleep fonksiyonları bulunur.     \n",
    "Mesela clock() fonksiyonu programın başladığı andan itibaren geçen süreyi saniye olarak hesaplar.\n"
   ]
  },
  {
   "cell_type": "code",
   "execution_count": 44,
   "metadata": {},
   "outputs": [
    {
     "name": "stdout",
     "output_type": "stream",
     "text": [
      "isminizi tam 0.5650458335876465 saniyede girdiniz\n"
     ]
    }
   ],
   "source": [
    "# Bilginin kaç saniyede girildiğini hesaplayan program: \n",
    "\n",
    "import time\n",
    "baslangic_zamani = time.time()\n",
    "ad = input(\"İsminizi giriniz: \")\n",
    "zaman = time.time() - baslangic_zamani\n",
    "print(\"isminizi tam\", zaman, \"saniyede girdiniz\")"
   ]
  },
  {
   "cell_type": "code",
   "execution_count": 45,
   "metadata": {},
   "outputs": [],
   "source": [
    "# sleep(3) fonksiyonu, bilgi girilmeden önce 3 saniye bekletir.\n",
    "\n",
    "import time \n",
    "time.sleep(5)\n",
    "ad = input(\"Isminizi giriniz:\")"
   ]
  },
  {
   "cell_type": "code",
   "execution_count": 51,
   "metadata": {},
   "outputs": [
    {
     "name": "stdout",
     "output_type": "stream",
     "text": [
      "30\n"
     ]
    }
   ],
   "source": [
    "# rondom modülü rastgele sayı üretmeye yarayan modüldür.\n",
    "\n",
    "import random\n",
    "for i in range(1):\n",
    "    print(random.randrange(1,100))"
   ]
  },
  {
   "cell_type": "code",
   "execution_count": 55,
   "metadata": {},
   "outputs": [
    {
     "name": "stdout",
     "output_type": "stream",
     "text": [
      "45 9 28 11 13 10 "
     ]
    }
   ],
   "source": [
    "# sayısal loto programı:\n",
    "\n",
    "import random\n",
    "for i in range(6):\n",
    "    print(random.randrange(1,50), end=\" \")"
   ]
  },
  {
   "cell_type": "code",
   "execution_count": 60,
   "metadata": {},
   "outputs": [
    {
     "name": "stdout",
     "output_type": "stream",
     "text": [
      "['ahmet', 'zeynep']\n"
     ]
    }
   ],
   "source": [
    "# sample() fonksiyonu random modülü içerisinde yer alan herhangi bir dizi içerisinden rastgele bir numune almamızı sağlar:\n",
    "\n",
    "import random\n",
    "liste = [\"ahmet\",\"mehmet\",\"sevgi\",\"sevim\",\"zeynep\"]\n",
    "print(random.sample(liste,2))"
   ]
  },
  {
   "cell_type": "code",
   "execution_count": null,
   "metadata": {},
   "outputs": [],
   "source": []
  }
 ],
 "metadata": {
  "kernelspec": {
   "display_name": "Python 3",
   "language": "python",
   "name": "python3"
  },
  "language_info": {
   "codemirror_mode": {
    "name": "ipython",
    "version": 3
   },
   "file_extension": ".py",
   "mimetype": "text/x-python",
   "name": "python",
   "nbconvert_exporter": "python",
   "pygments_lexer": "ipython3",
   "version": "3.9.13"
  }
 },
 "nbformat": 4,
 "nbformat_minor": 2
}
