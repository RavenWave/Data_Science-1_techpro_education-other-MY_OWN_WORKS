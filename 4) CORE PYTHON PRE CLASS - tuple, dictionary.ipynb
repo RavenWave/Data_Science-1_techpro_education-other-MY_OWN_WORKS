{
 "cells": [
  {
   "cell_type": "markdown",
   "metadata": {},
   "source": [
    "# Demetler (Tuple'lar): Tuple'lar list'lere benzer ancak farkları tuple'ların değiştirilemez oluşudur."
   ]
  },
  {
   "cell_type": "code",
   "execution_count": 1,
   "metadata": {},
   "outputs": [
    {
     "name": "stdout",
     "output_type": "stream",
     "text": [
      "(1, 2, 3, 4, 5, 6, 7)\n"
     ]
    }
   ],
   "source": [
    "# Tuple oluşturma:\n",
    "\n",
    "demet = (1,2,3,4,5,6,7)\n",
    "print(demet)"
   ]
  },
  {
   "cell_type": "code",
   "execution_count": 2,
   "metadata": {},
   "outputs": [
    {
     "name": "stdout",
     "output_type": "stream",
     "text": [
      "(1,)\n"
     ]
    }
   ],
   "source": [
    "# Tek elemanlı bir Tuple oluşturma:\n",
    "\n",
    "demet = (1,)\n",
    "print(demet)"
   ]
  },
  {
   "cell_type": "code",
   "execution_count": 7,
   "metadata": {},
   "outputs": [
    {
     "name": "stdout",
     "output_type": "stream",
     "text": [
      "0. index -->  1\n",
      "5. index -->  6\n"
     ]
    }
   ],
   "source": [
    "# 0. indexe ulaşma:\n",
    "\n",
    "demet = (1,2,3,4,5,6,7)\n",
    "print(\"0. index --> \",demet[0]) \n",
    "\n",
    "# 5. indexe ulaşma:\n",
    "\n",
    "print(\"5. index --> \",demet[5])  "
   ]
  },
  {
   "cell_type": "code",
   "execution_count": 8,
   "metadata": {},
   "outputs": [
    {
     "name": "stdout",
     "output_type": "stream",
     "text": [
      "3\n"
     ]
    }
   ],
   "source": [
    "# Bir tuple'ın içerisindeki elemanların kaçıncı index'te olduğunu bulma:\n",
    "\n",
    "demet = (1,2,3,\"emre\",\"irem\",\"cakir\")\n",
    "print(demet.index(\"emre\"))"
   ]
  },
  {
   "cell_type": "code",
   "execution_count": 10,
   "metadata": {},
   "outputs": [
    {
     "name": "stdout",
     "output_type": "stream",
     "text": [
      "3\n"
     ]
    }
   ],
   "source": [
    "# tuple içerisinde elemanın kaç defa geçtiğini buluyoruz:\n",
    "\n",
    "demet = (1,2,3,24,45,45,56,2,54,72,1,1,4,677,7)\n",
    "print(demet.count(1))"
   ]
  },
  {
   "cell_type": "markdown",
   "metadata": {},
   "source": [
    "# Sözlükler (Dictionary)\n",
    "Dictionary'lerin içerisinde index'ler yoktur. index yerine her bir elemanın bir anahtar'ı (key) bir de değer'i (value) vardır. Her bir key bir value'ye denk gelir. Yani örneğin bir türkçe-ingilizce sözlüğünde \"book\" sözcüğünün karşısında \"kitap\" değeri vardır. burada book bir key, kitap ise bir value olarak düşünlebilir."
   ]
  },
  {
   "cell_type": "code",
   "execution_count": 14,
   "metadata": {},
   "outputs": [
    {
     "name": "stdout",
     "output_type": "stream",
     "text": [
      "kitap\n",
      "yazici\n"
     ]
    }
   ],
   "source": [
    "# Dictionary oluşturma:\n",
    "\n",
    "sozluk1 = {\"book\":\"kitap\",\"apple\":\"elma\",\"printer\":\"yazici\"}\n",
    "print(sozluk1[\"book\"])\n",
    "print(sozluk1[\"printer\"])"
   ]
  },
  {
   "cell_type": "code",
   "execution_count": 15,
   "metadata": {},
   "outputs": [
    {
     "name": "stdout",
     "output_type": "stream",
     "text": [
      "{'book': 'kitap', 'apple': 'elma', 'printer': 'yazici', 'table': 'masa'}\n"
     ]
    }
   ],
   "source": [
    "# Dictionary'ye yeni bir eleman ekleme:\n",
    "\n",
    "sozluk1[\"table\"] = \"masa\"\n",
    "print(sozluk1)"
   ]
  },
  {
   "cell_type": "code",
   "execution_count": 16,
   "metadata": {},
   "outputs": [
    {
     "name": "stdout",
     "output_type": "stream",
     "text": [
      "{}\n",
      "{}\n"
     ]
    }
   ],
   "source": [
    "# Boş bir sözlük oluşturma:\n",
    "\n",
    "sozluk2 = {}\n",
    "print(sozluk2)\n",
    "\n",
    "# ya da:\n",
    "\n",
    "sozluk3 = dict()\n",
    "print(sozluk3)"
   ]
  },
  {
   "cell_type": "code",
   "execution_count": 28,
   "metadata": {},
   "outputs": [
    {
     "name": "stdout",
     "output_type": "stream",
     "text": [
      ">> 'b' key'ine karsilik gelen value:  [[4, 5], [6, 7]]\n",
      ">> 'b' key'ine karsilik gelen value'nin 1 index'li elemani:  [6, 7]\n",
      ">> 'b' key'ine karsilik gelen value'nin 1 index'li elemaninin 0 indexli elemani:  6\n",
      ">> 'b' key'ine karsilik gelen value'nin 1 index'li elemaninin 1 indexli elemani:  7\n"
     ]
    }
   ],
   "source": [
    "# key'e karşılık gelen value'leri bulma:\n",
    "\n",
    "liste = {\"a\":[1,2,3],\"b\":[[4,5],[6,7]],\"c\":8}\n",
    "print(\">> 'b' key'ine karsilik gelen value: \",liste[\"b\"])\n",
    "print(\">> 'b' key'ine karsilik gelen value'nin 1 index'li elemani: \",liste[\"b\"][1])\n",
    "print(\">> 'b' key'ine karsilik gelen value'nin 1 index'li elemaninin 0 indexli elemani: \",liste[\"b\"][1][0])\n",
    "print(\">> 'b' key'ine karsilik gelen value'nin 1 index'li elemaninin 1 indexli elemani: \",liste[\"b\"][1][1])\n"
   ]
  },
  {
   "cell_type": "code",
   "execution_count": 29,
   "metadata": {},
   "outputs": [
    {
     "name": "stdout",
     "output_type": "stream",
     "text": [
      "13\n"
     ]
    }
   ],
   "source": [
    "liste[\"c\"] += 5\n",
    "print(liste[\"c\"])"
   ]
  },
  {
   "cell_type": "code",
   "execution_count": 32,
   "metadata": {},
   "outputs": [
    {
     "name": "stdout",
     "output_type": "stream",
     "text": [
      "{'sayilar': {'bir': 1, 'iki': 2, 'uc': 3}, 'meyveler': {'kiraz': 'yaz', 'portakal': 'kis', 'erik': 'yaz'}}\n",
      "yaz\n"
     ]
    }
   ],
   "source": [
    "# İç içe geçmiş dictionary'ler:\n",
    "\n",
    "nested = {\"sayilar\":{\"bir\":1,\"iki\":2,\"uc\":3}, \"meyveler\":{\"kiraz\":\"yaz\",\"portakal\":\"kis\",\"erik\":\"yaz\"}}\n",
    "print(nested)\n",
    "print(nested[\"meyveler\"][\"erik\"])"
   ]
  },
  {
   "cell_type": "code",
   "execution_count": 36,
   "metadata": {},
   "outputs": [
    {
     "name": "stdout",
     "output_type": "stream",
     "text": [
      "dict_values([{'bir': 1, 'iki': 2, 'uc': 3}, {'kiraz': 'yaz', 'portakal': 'kis', 'erik': 'yaz'}])\n",
      "dict_keys(['sayilar', 'meyveler'])\n"
     ]
    }
   ],
   "source": [
    "# Bir dictionary'nin value ve key'ini bir listeye çevirme:\n",
    "\n",
    "print(nested.values())\n",
    "print(nested.keys())"
   ]
  },
  {
   "cell_type": "code",
   "execution_count": 37,
   "metadata": {},
   "outputs": [
    {
     "name": "stdout",
     "output_type": "stream",
     "text": [
      "dict_items([('sayilar', {'bir': 1, 'iki': 2, 'uc': 3}), ('meyveler', {'kiraz': 'yaz', 'portakal': 'kis', 'erik': 'yaz'})])\n"
     ]
    }
   ],
   "source": [
    "# Bir dictionary'e ait olan value ve key'leri bir list içerisinde tuple'e çevirme:\n",
    "\n",
    "print(nested.items())"
   ]
  },
  {
   "cell_type": "code",
   "execution_count": 1,
   "metadata": {},
   "outputs": [
    {
     "name": "stdout",
     "output_type": "stream",
     "text": [
      "real live\n"
     ]
    }
   ],
   "source": [
    "\n",
    "\n",
    "\n",
    "\n",
    "\n"
   ]
  },
  {
   "cell_type": "code",
   "execution_count": null,
   "metadata": {},
   "outputs": [],
   "source": []
  }
 ],
 "metadata": {
  "kernelspec": {
   "display_name": "Python 3",
   "language": "python",
   "name": "python3"
  },
  "language_info": {
   "codemirror_mode": {
    "name": "ipython",
    "version": 3
   },
   "file_extension": ".py",
   "mimetype": "text/x-python",
   "name": "python",
   "nbconvert_exporter": "python",
   "pygments_lexer": "ipython3",
   "version": "3.9.13"
  }
 },
 "nbformat": 4,
 "nbformat_minor": 2
}
