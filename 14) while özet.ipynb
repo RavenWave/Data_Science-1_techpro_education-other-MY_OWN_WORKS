{
 "cells": [
  {
   "cell_type": "markdown",
   "metadata": {},
   "source": [
    "# WHILE DÖNGÜSÜ İLE İLGİLİ HOŞUMA GİDEN NOTLAR"
   ]
  },
  {
   "cell_type": "markdown",
   "metadata": {},
   "source": [
    "    NOT1: Öncelikle while döngüsü, bir şart False olana kadar devam eden bir döngüdür. for döngüsünde şart durumu yoktur. Ama burada belli bir şart vardır, o şart sağlandığı süreç boyunca, döngümüz çalışmayı sürdürür. O yüzden ana bakış açımız bu olmalı"
   ]
  },
  {
   "cell_type": "code",
   "execution_count": 1,
   "metadata": {},
   "outputs": [
    {
     "name": "stdout",
     "output_type": "stream",
     "text": [
      "Emre\n"
     ]
    }
   ],
   "source": [
    "x = True\n",
    "while x:                # x True olduğu sürece bu döngü devam eder. Yani x'in False olduğu satırda, bu döngü sonlanır\n",
    "    print('Emre')\n",
    "    x = False           # döngünün sonlanmasını sağlayan satır budur. bu satır olmasa, döngü sonsuza kadar çalışırdı."
   ]
  },
  {
   "cell_type": "code",
   "execution_count": 2,
   "metadata": {},
   "outputs": [
    {
     "name": "stdout",
     "output_type": "stream",
     "text": [
      "çık\n",
      "in\n",
      "doğru tahmin\n"
     ]
    }
   ],
   "source": [
    "x = True\n",
    "aklımdaki_sayi = 55\n",
    "\n",
    "while x:\n",
    "    tahmin = int(input('Tahmin et'))\n",
    "    if aklımdaki_sayi > tahmin:\n",
    "        print('çık')    \n",
    "    elif aklımdaki_sayi < tahmin:\n",
    "        print('in')\n",
    "    else:\n",
    "        print('doğru tahmin')\n",
    "        x = False               # bu satıra gelmese, sonsuza kadar devam eder bu kod. bu satıra geldiği anda döngü sonlanır"
   ]
  },
  {
   "cell_type": "markdown",
   "metadata": {},
   "source": [
    "## şartımızın True'den False dönmesini beklemek yerine, BREAK komutunu kullanabiliriz:\n",
    "\n",
    "        Yani break komutumuz if içerisinde kullanılsa bile, etkilediği yer bir döngü olmak zorundadır (for döngüsü de olabilir)"
   ]
  },
  {
   "cell_type": "code",
   "execution_count": 3,
   "metadata": {},
   "outputs": [
    {
     "name": "stdout",
     "output_type": "stream",
     "text": [
      "çık\n",
      "in\n",
      "doğru tahmin\n"
     ]
    }
   ],
   "source": [
    "x = True\n",
    "aklımdaki_sayi = 55\n",
    "\n",
    "while x:\n",
    "    tahmin = int(input('Tahmin et'))\n",
    "    if aklımdaki_sayi > tahmin:\n",
    "        print('çık')    \n",
    "    elif aklımdaki_sayi < tahmin:\n",
    "        print('in')\n",
    "    else:\n",
    "        print('doğru tahmin')\n",
    "        break               # x = False demek yerine break kullanmak daha pratik ve kullanışlıdır"
   ]
  },
  {
   "cell_type": "markdown",
   "metadata": {},
   "source": [
    "## eğer kodumuzun, belli bir şartı sağladığı durumda, bu andan itibaren geriye kalan kısımları görmezden gelerke döngünün başına geri dönmesini istiyorsak, CONTINUE komutunu kullanabiliriz"
   ]
  },
  {
   "cell_type": "code",
   "execution_count": null,
   "metadata": {},
   "outputs": [],
   "source": [
    "liste = [1, 2, 3, 4, \"Techpro\", 5, 6, 7]\n",
    "\n",
    "# integer ifadelerin toplamını yazdırın ancak string bir ifade denk gelince o ifadeyi atayıp devam edecek şekilde \n",
    "\n",
    "x= 0\n",
    "toplam = 0\n",
    "\n",
    "while x < len(liste):\n",
    "    if type(liste[x]) == int:\n",
    "        toplam += liste[x]\n",
    "    elif type(liste[x]) == str: \n",
    "        x += 1\n",
    "        continue        # bu şekilde yaparsak artışı sağlamış ve tek bir index'te takılı kalmamış oluruz.\n",
    "    x += 1              # bunu yine de eklemeyi ihmal etme. Çünkü elif'e uğramadığı zamanlarda bu kısıma uğrayacak. Bu olmazsa yine bi sonsuz döngüye girilir.\n",
    "print(toplam)"
   ]
  }
 ],
 "metadata": {
  "kernelspec": {
   "display_name": "Python 3",
   "language": "python",
   "name": "python3"
  },
  "language_info": {
   "codemirror_mode": {
    "name": "ipython",
    "version": 3
   },
   "file_extension": ".py",
   "mimetype": "text/x-python",
   "name": "python",
   "nbconvert_exporter": "python",
   "pygments_lexer": "ipython3",
   "version": "3.9.13"
  }
 },
 "nbformat": 4,
 "nbformat_minor": 2
}
