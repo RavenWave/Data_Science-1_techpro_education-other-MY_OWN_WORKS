{
 "cells": [
  {
   "cell_type": "code",
   "execution_count": 1,
   "metadata": {},
   "outputs": [
    {
     "name": "stdout",
     "output_type": "stream",
     "text": [
      "Emre and Irem are a couple\n"
     ]
    }
   ],
   "source": [
    "name_1 = \"Emre\"\n",
    "name_2 = \"Irem\"\n",
    "\n",
    "message = f'{name_1} and {name_2} are a couple'\n",
    "\n",
    "print(message)"
   ]
  },
  {
   "cell_type": "code",
   "execution_count": 2,
   "metadata": {},
   "outputs": [
    {
     "name": "stdout",
     "output_type": "stream",
     "text": [
      "Emre and Irem are a couple\n"
     ]
    }
   ],
   "source": [
    "name_1 = \"Emre\"\n",
    "name_2 = \"Irem\"\n",
    "\n",
    "print(f'{name_1} and {name_2} are a couple')"
   ]
  },
  {
   "cell_type": "code",
   "execution_count": 3,
   "metadata": {},
   "outputs": [
    {
     "name": "stdout",
     "output_type": "stream",
     "text": [
      "Erkin and Fararina have two children. Their name are Efran and Rafael respectively.\n"
     ]
    }
   ],
   "source": [
    "name_1, name_2 = \"Erkin\", \"Fararina\"\n",
    "name_3, name_4 = \"Efran\", \"Rafael\" \n",
    "\n",
    "message = f\"{name_1} and {name_2} have two children. Their name are {name_3} and {name_4} respectively.\"\n",
    "\n",
    "print(message)"
   ]
  },
  {
   "cell_type": "code",
   "execution_count": 5,
   "metadata": {},
   "outputs": [
    {
     "name": "stdout",
     "output_type": "stream",
     "text": [
      "Erkin and Fararina have two children. Their name are Efran and Rafael recpectively.\n"
     ]
    }
   ],
   "source": [
    "# We have an another way to use the formatting method:\n",
    "\n",
    "name_1, name_2 = \"Erkin\", \"Fararina\"\n",
    "name_3, name_4 = \"Efran\", \"Rafael\" \n",
    "\n",
    "message = \"{} and {} have two children. Their name are {} and {} recpectively.\".format(name_1, name_2, name_3, name_4)\n",
    "\n",
    "print(message)"
   ]
  }
 ],
 "metadata": {
  "kernelspec": {
   "display_name": "Python 3",
   "language": "python",
   "name": "python3"
  },
  "language_info": {
   "codemirror_mode": {
    "name": "ipython",
    "version": 3
   },
   "file_extension": ".py",
   "mimetype": "text/x-python",
   "name": "python",
   "nbconvert_exporter": "python",
   "pygments_lexer": "ipython3",
   "version": "3.9.13"
  }
 },
 "nbformat": 4,
 "nbformat_minor": 2
}
