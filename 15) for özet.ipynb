{
 "cells": [
  {
   "cell_type": "markdown",
   "metadata": {},
   "source": [
    "# FOR DÖNGÜSÜ İLE İLGİLİ HOŞUMA GİDEN ŞEYLER"
   ]
  },
  {
   "cell_type": "markdown",
   "metadata": {},
   "source": [
    "## string'lerin concate olabilme özelliğini ihmal etme. sen for dönügünü genellikle list'ler ile kullanıyorsun. Ancak bazı durumlarda string'ler çok daha basit çözümler sunabiliyor"
   ]
  },
  {
   "cell_type": "code",
   "execution_count": 1,
   "metadata": {},
   "outputs": [
    {
     "data": {
      "text/plain": [
       "'T-e-c-h-p-r-o'"
      ]
     },
     "execution_count": 1,
     "metadata": {},
     "output_type": "execute_result"
    }
   ],
   "source": [
    "empty_str = \"\"          # string'ler toplama işlemlerini concat eder yani birleştirerek devam eder\n",
    "\n",
    "for i in \"Techpro\":\n",
    "    empty_str += i + \"-\"\n",
    "    \n",
    "empty_str.rstrip(\"-\")"
   ]
  },
  {
   "cell_type": "markdown",
   "metadata": {},
   "source": [
    "## dictionary ile kullanmak eneteresan olabilir:"
   ]
  },
  {
   "cell_type": "code",
   "execution_count": 2,
   "metadata": {},
   "outputs": [
    {
     "name": "stdout",
     "output_type": "stream",
     "text": [
      "name\n",
      "age\n",
      "job\n"
     ]
    }
   ],
   "source": [
    "dict_1 = {'name': \"dilek\", \"age\": 26, \"job\": \"data_scientist\"}\n",
    "\n",
    "for i in dict_1:\n",
    "    print(i)"
   ]
  },
  {
   "cell_type": "code",
   "execution_count": 3,
   "metadata": {},
   "outputs": [
    {
     "name": "stdout",
     "output_type": "stream",
     "text": [
      "dilek\n",
      "26\n",
      "data_scientist\n"
     ]
    }
   ],
   "source": [
    "for i in dict_1.values():\n",
    "    print(i)"
   ]
  },
  {
   "cell_type": "code",
   "execution_count": 4,
   "metadata": {},
   "outputs": [
    {
     "name": "stdout",
     "output_type": "stream",
     "text": [
      "('name', 'dilek')\n",
      "('age', 26)\n",
      "('job', 'data_scientist')\n"
     ]
    }
   ],
   "source": [
    "for i in dict_1.items():\n",
    "    print(i)"
   ]
  },
  {
   "cell_type": "code",
   "execution_count": 5,
   "metadata": {},
   "outputs": [
    {
     "name": "stdout",
     "output_type": "stream",
     "text": [
      "key: name value: dilek\n",
      "key: age value: 26\n",
      "key: job value: data_scientist\n"
     ]
    }
   ],
   "source": [
    "for i, j in dict_1.items():\n",
    "    print('key:', i, 'value:', j)"
   ]
  }
 ],
 "metadata": {
  "kernelspec": {
   "display_name": "Python 3",
   "language": "python",
   "name": "python3"
  },
  "language_info": {
   "codemirror_mode": {
    "name": "ipython",
    "version": 3
   },
   "file_extension": ".py",
   "mimetype": "text/x-python",
   "name": "python",
   "nbconvert_exporter": "python",
   "pygments_lexer": "ipython3",
   "version": "3.9.13"
  }
 },
 "nbformat": 4,
 "nbformat_minor": 2
}
