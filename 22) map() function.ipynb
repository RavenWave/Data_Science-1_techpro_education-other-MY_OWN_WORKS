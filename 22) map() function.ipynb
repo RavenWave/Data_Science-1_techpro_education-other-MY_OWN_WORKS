{
 "cells": [
  {
   "cell_type": "markdown",
   "metadata": {},
   "source": [
    "# map() İLE İLGİLİ ÖNEMLİ NOKTALAR"
   ]
  },
  {
   "cell_type": "markdown",
   "metadata": {},
   "source": [
    "filter() gibi çalışır. Ancak filter'da belirlediğimiz şarta uyan elemanları yazdırma gibi bi anlayış varken, map'te istediğimiz işlemleri elemanlar üzerinde uygulama mantığı vardır"
   ]
  },
  {
   "cell_type": "code",
   "execution_count": 1,
   "metadata": {},
   "outputs": [
    {
     "data": {
      "text/plain": [
       "[1, 4, 9, 16]"
      ]
     },
     "execution_count": 1,
     "metadata": {},
     "output_type": "execute_result"
    }
   ],
   "source": [
    "list(map(lambda x: x ** 2,  [1, 2, 3, 4]))"
   ]
  },
  {
   "cell_type": "markdown",
   "metadata": {},
   "source": [
    "    AŞAĞIDAKİ ARD ARDA VEİLEN 2 ÖRNEK MAP İLE FİLTER ARASINDAKİ FARKI NET ŞEKİLDE AÇIKLAMAKTADIR"
   ]
  },
  {
   "cell_type": "code",
   "execution_count": 2,
   "metadata": {},
   "outputs": [
    {
     "data": {
      "text/plain": [
       "('Emre', 'İrem', 'Süheyla', 'Erki̇n', 'Ozan', 'Ipek', 'Hacer', 'Osman')"
      ]
     },
     "execution_count": 2,
     "metadata": {},
     "output_type": "execute_result"
    }
   ],
   "source": [
    "isimler = ['EMRE', 'İREM', 'SÜHEYLA', 'ERKİN', 'ozan', 'ipek', 'hacer', 'osman']\n",
    "\n",
    "tuple(map(lambda x: x.capitalize(), isimler))"
   ]
  },
  {
   "cell_type": "code",
   "execution_count": 3,
   "metadata": {},
   "outputs": [
    {
     "data": {
      "text/plain": [
       "('EMRE', 'İREM', 'SÜHEYLA', 'ERKİN')"
      ]
     },
     "execution_count": 3,
     "metadata": {},
     "output_type": "execute_result"
    }
   ],
   "source": [
    "isimler = ['EMRE', 'İREM', 'SÜHEYLA', 'ERKİN', 'ozan', 'ipek', 'hacer', 'osman']\n",
    "\n",
    "tuple(filter(lambda x: x == x.upper(), isimler))"
   ]
  },
  {
   "cell_type": "code",
   "execution_count": 4,
   "metadata": {},
   "outputs": [
    {
     "data": {
      "text/plain": [
       "[4, 4, 7, 5, 4, 4, 5, 5]"
      ]
     },
     "execution_count": 4,
     "metadata": {},
     "output_type": "execute_result"
    }
   ],
   "source": [
    "list(map(len, isimler))"
   ]
  },
  {
   "cell_type": "code",
   "execution_count": 7,
   "metadata": {},
   "outputs": [],
   "source": [
    "# isimler listeside bütük harfle yazılanları küçük, küçük harfle yazılanları da büyük yazdır(swapcase kullanmadan)\n",
    "\n",
    "my_tuple = tuple(map(lambda x: x.lower() if x == x.upper() else x.upper(), isimler))"
   ]
  },
  {
   "cell_type": "code",
   "execution_count": 8,
   "metadata": {},
   "outputs": [
    {
     "data": {
      "text/plain": [
       "('emre', 'i̇rem', 'süheyla', 'erki̇n', 'OZAN', 'IPEK', 'HACER', 'OSMAN')"
      ]
     },
     "execution_count": 8,
     "metadata": {},
     "output_type": "execute_result"
    }
   ],
   "source": [
    "my_tuple"
   ]
  },
  {
   "cell_type": "code",
   "execution_count": 17,
   "metadata": {},
   "outputs": [],
   "source": [
    "def tekleri_kare_al(* x):\n",
    "    \"\"\"bu fonksiyon tek sayların karesini alır\"\"\"\n",
    "\n",
    "    return [i ** 2 if i % 2 else i for i in x]"
   ]
  },
  {
   "cell_type": "code",
   "execution_count": 20,
   "metadata": {},
   "outputs": [
    {
     "data": {
      "text/plain": [
       "[12, 1, 26, 841, 112, 12321]"
      ]
     },
     "execution_count": 20,
     "metadata": {},
     "output_type": "execute_result"
    }
   ],
   "source": [
    "tekleri_kare_al(12, 1, 26, 29, 112, 111)"
   ]
  },
  {
   "cell_type": "markdown",
   "metadata": {},
   "source": [
    "    asağıda ise nedne bazen lambda'nın fonksiyon'dan daha mantıklı olduğunu görüyoruz"
   ]
  },
  {
   "cell_type": "code",
   "execution_count": 21,
   "metadata": {},
   "outputs": [
    {
     "data": {
      "text/plain": [
       "[[12], [532], [12], [1234], [4], [4489], [9753129], [1], [34], [314721]]"
      ]
     },
     "execution_count": 21,
     "metadata": {},
     "output_type": "execute_result"
    }
   ],
   "source": [
    "sayılar = [12, 532, 12, 1234, 4, 67, 3123, 1, 34, 561]\n",
    "\n",
    "list(map(tekleri_kare_al, sayılar))"
   ]
  },
  {
   "cell_type": "code",
   "execution_count": 23,
   "metadata": {},
   "outputs": [
    {
     "data": {
      "text/plain": [
       "[12, 532, 12, 1234, 4, 4489, 9753129, 1, 34, 314721]"
      ]
     },
     "execution_count": 23,
     "metadata": {},
     "output_type": "execute_result"
    }
   ],
   "source": [
    "list(map(lambda x: x ** 2 if x % 2 else x, sayılar))"
   ]
  },
  {
   "cell_type": "code",
   "execution_count": null,
   "metadata": {},
   "outputs": [],
   "source": []
  }
 ],
 "metadata": {
  "kernelspec": {
   "display_name": "Python 3",
   "language": "python",
   "name": "python3"
  },
  "language_info": {
   "codemirror_mode": {
    "name": "ipython",
    "version": 3
   },
   "file_extension": ".py",
   "mimetype": "text/x-python",
   "name": "python",
   "nbconvert_exporter": "python",
   "pygments_lexer": "ipython3",
   "version": "3.9.13"
  }
 },
 "nbformat": 4,
 "nbformat_minor": 2
}
